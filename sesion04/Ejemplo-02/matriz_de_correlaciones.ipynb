{
  "nbformat": 4,
  "nbformat_minor": 0,
  "metadata": {
    "kernelspec": {
      "display_name": "Python 3",
      "language": "python",
      "name": "python3"
    },
    "language_info": {
      "codemirror_mode": {
        "name": "ipython",
        "version": 3
      },
      "file_extension": ".py",
      "mimetype": "text/x-python",
      "name": "python",
      "nbconvert_exporter": "python",
      "pygments_lexer": "ipython3",
      "version": "3.8.5"
    },
    "colab": {
      "name": "matriz_de_correlaciones.ipynb",
      "provenance": [],
      "collapsed_sections": []
    }
  },
  "cells": [
    {
      "cell_type": "markdown",
      "metadata": {
        "id": "S05KoJPCHR1Q"
      },
      "source": [
        "# Ejemplo 2: Matriz de correlaciones y mapas de calor\n",
        "\n",
        "## 1. Objetivos:\n",
        "- Aprender a generar matrices de correlaciones y mapas de calor para cuantificar el coeficiente de correlación de Pearson de múltiples variables al mismo tiempo.\n",
        "    \n",
        "## 2. Desarrollo:"
      ]
    },
    {
      "cell_type": "markdown",
      "metadata": {
        "id": "pX2_hiXfHR1R"
      },
      "source": [
        "Analicemos un poco el siguiente dataset:"
      ]
    },
    {
      "cell_type": "code",
      "metadata": {
        "id": "fPECWwpcHR1S"
      },
      "source": [
        "import pandas as pd\n",
        "import matplotlib.pyplot as plt\n",
        "import seaborn as sns"
      ],
      "execution_count": null,
      "outputs": []
    },
    {
      "cell_type": "code",
      "metadata": {
        "id": "HK1h13SMHR1S"
      },
      "source": [
        "df = pd.read_csv('https://raw.githubusercontent.com/manu-msr/beduadp/master/Datasets/diabetes-clean.csv', index_col=0)"
      ],
      "execution_count": null,
      "outputs": []
    },
    {
      "cell_type": "code",
      "metadata": {
        "id": "rjjndj6BHR1T"
      },
      "source": [
        "df.head()"
      ],
      "execution_count": null,
      "outputs": []
    },
    {
      "cell_type": "markdown",
      "metadata": {
        "id": "TJVhvX3tHR1T"
      },
      "source": [
        "Este dataset tiene muchas variables numéricas que se prestan a la aplicación de nuestro coeficiente de correlación de Pearson.\n",
        "\n",
        "Antes de aplicarlo, removeré la variable dependiente ('outcome'), dado que es una variable binaria no apta para este tipo de análisis."
      ]
    },
    {
      "cell_type": "code",
      "metadata": {
        "id": "5NwRKlpRHR1T"
      },
      "source": [
        "df_filtered = df.drop(columns=['outcome'])"
      ],
      "execution_count": null,
      "outputs": []
    },
    {
      "cell_type": "code",
      "metadata": {
        "id": "w71RIzNcHR1T"
      },
      "source": [
        "df_filtered.corr()"
      ],
      "execution_count": null,
      "outputs": []
    },
    {
      "cell_type": "markdown",
      "metadata": {
        "id": "M0bZHd83HR1U"
      },
      "source": [
        "Tan fácil como esto. Como puedes observar, es un poco difícil discernir las distintas correlaciones de esta manera. Digamos que no 'saltan' a la vista.\n",
        "\n",
        "Un par de cosas que podemos observar es que:\n",
        "\n",
        "1. Hay una diagonal de 1s a la mitad de la matriz, donde cada variable se relaciona consigo misma.\n",
        "2. Hay redundancia de datos debajo y arriba de la diagonal."
      ]
    },
    {
      "cell_type": "markdown",
      "metadata": {
        "id": "e8qvFJnFHR1U"
      },
      "source": [
        "Usemos ahora un mapa de calor para visualizar esta matriz de una manera más fácil de interpretar:"
      ]
    },
    {
      "cell_type": "code",
      "metadata": {
        "id": "_z8QLjl4HR1U"
      },
      "source": [
        "plt.figure(figsize=(8, 6))\n",
        "ax = sns.heatmap(df_filtered.corr(), vmin=-1, vmax=1, annot=True, cmap=\"YlGnBu\", linewidths=.5);"
      ],
      "execution_count": null,
      "outputs": []
    },
    {
      "cell_type": "markdown",
      "metadata": {
        "id": "hKW6Lj_yHR1U"
      },
      "source": [
        "Resulta mucho más sencillo visualizar las relaciones entre variables, ¿no es así?\n",
        "\n",
        "¿Qué variables tienen correlaciones negativas? ¿Qué variables tienen correlaciones positivas? ¿Qué variables no tienen correlación?\n",
        "\n",
        "Recuerda que estamos cuantificando la relación lineal entre dos variables. Esto significa que podría existir algún tipo de relación no lineal que no estamos visualizando con este mapa."
      ]
    }
  ]
}