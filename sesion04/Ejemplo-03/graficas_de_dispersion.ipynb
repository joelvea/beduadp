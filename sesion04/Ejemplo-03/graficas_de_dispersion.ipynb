{
  "nbformat": 4,
  "nbformat_minor": 0,
  "metadata": {
    "kernelspec": {
      "display_name": "Python 3",
      "language": "python",
      "name": "python3"
    },
    "language_info": {
      "codemirror_mode": {
        "name": "ipython",
        "version": 3
      },
      "file_extension": ".py",
      "mimetype": "text/x-python",
      "name": "python",
      "nbconvert_exporter": "python",
      "pygments_lexer": "ipython3",
      "version": "3.8.5"
    },
    "colab": {
      "name": "graficas_de_dispersion.ipynb",
      "provenance": [],
      "collapsed_sections": []
    }
  },
  "cells": [
    {
      "cell_type": "markdown",
      "metadata": {
        "id": "r5kprK9PJSpz"
      },
      "source": [
        "# Ejemplo 3: Gráficas de dispersión\n",
        "\n",
        "## 1. Objetivos:\n",
        "- Aprender a realizar gráficas de dispersión\n",
        "\n",
        "    \n",
        "## 2. Desarrollo:"
      ]
    },
    {
      "cell_type": "markdown",
      "metadata": {
        "id": "8AFAmw9zJSp0"
      },
      "source": [
        "Las gráficas de dispersión, como ya viste en los ejemplos anteriores, nos ayudan a visualizar la relación entre dos variables numéricas. Veamos unos ejemplos:"
      ]
    },
    {
      "cell_type": "code",
      "metadata": {
        "id": "4TjxJrD8JSp1"
      },
      "source": [
        "import pandas as pd\n",
        "import seaborn as sns\n",
        "import matplotlib.pyplot as plt"
      ],
      "execution_count": null,
      "outputs": []
    },
    {
      "cell_type": "code",
      "metadata": {
        "id": "8P_RopsGJSp1"
      },
      "source": [
        "df = pd.read_csv('https://raw.githubusercontent.com/manu-msr/beduadp/master/Datasets/diabetes-clean.csv', index_col=0)"
      ],
      "execution_count": null,
      "outputs": []
    },
    {
      "cell_type": "code",
      "metadata": {
        "id": "1XwTWVSNJSp2"
      },
      "source": [
        "df.head()"
      ],
      "execution_count": null,
      "outputs": []
    },
    {
      "cell_type": "markdown",
      "metadata": {
        "id": "NeuZYghdJSp2"
      },
      "source": [
        "Vimos que insulina y glucosa tenían una correlación positiva de 0.33. Esta correlación lineal es bastante débil en realidad. Así se ven ambas variables en una gráfica de dispersión:"
      ]
    },
    {
      "cell_type": "code",
      "metadata": {
        "id": "W6N-TkejJSp2"
      },
      "source": [
        "sns.scatterplot(x=df['insulin'], y=df['glucose']);"
      ],
      "execution_count": null,
      "outputs": []
    },
    {
      "cell_type": "code",
      "metadata": {
        "id": "s8KYH0dJJSp2"
      },
      "source": [
        "df['insulin'].corr(df['glucose'])"
      ],
      "execution_count": null,
      "outputs": []
    },
    {
      "cell_type": "markdown",
      "metadata": {
        "id": "yuPmxQhNJSp3"
      },
      "source": [
        "Podemos ver algo curioso en esta gráfica: En el valor `0` de 'insulin', podemos observar que los valores 'glucose' encontrados abarcan todo el rango posible. Esto es algo extraño. A menos que uno de ustedes sea doctor y sepa que esto tiene sentido, creo que podríamos elaborar la hipótesis de que los valores `0` en 'insulin' representan una falta de datos o un error de medición y no un valor real. Esta hipótesis la podemos elaborar simplemente al observar que la gráfica tiene una anomalía en ese lugar. Veamos qué pasa si removemos los valores `0` en 'insulin':"
      ]
    },
    {
      "cell_type": "code",
      "metadata": {
        "id": "aXpDY679JSp3"
      },
      "source": [
        "df_no_zeros = df[df['insulin'] > 0]"
      ],
      "execution_count": null,
      "outputs": []
    },
    {
      "cell_type": "code",
      "metadata": {
        "id": "hkjn_p7yJSp3"
      },
      "source": [
        "sns.scatterplot(x=df_no_zeros['insulin'], y=df_no_zeros['glucose']);"
      ],
      "execution_count": null,
      "outputs": []
    },
    {
      "cell_type": "code",
      "metadata": {
        "id": "_kmC2hlZJSp3"
      },
      "source": [
        "df_no_zeros['insulin'].corr(df_no_zeros['glucose'])"
      ],
      "execution_count": null,
      "outputs": []
    },
    {
      "cell_type": "markdown",
      "metadata": {
        "id": "06-6Vpa9JSp4"
      },
      "source": [
        "Interesante, ¿no crees? Obviamente para realizar una hipótesis coherente necesitaríamos ser médicos (si alguien es médico aquí, por favor demuestre que hemos cometido un grave error), pero como puedes ver, tan sólo con visualizar la relación entre estos dos datos ya vimos algunas preguntas emerger.\n",
        "\n",
        "---\n",
        "\n",
        "Veamos qué hay entre las variables 'bmi' y 'glucose':"
      ]
    },
    {
      "cell_type": "code",
      "metadata": {
        "id": "ZiHYMwCYJSp6"
      },
      "source": [
        "sns.scatterplot(x=df['bmi'], y=df['glucose']);"
      ],
      "execution_count": null,
      "outputs": []
    },
    {
      "cell_type": "code",
      "metadata": {
        "id": "xlaEERE5JSp6"
      },
      "source": [
        "df['bmi'].corr(df['glucose'])"
      ],
      "execution_count": null,
      "outputs": []
    },
    {
      "cell_type": "markdown",
      "metadata": {
        "id": "6QhB02JiJSp6"
      },
      "source": [
        "Otra vez tenemos este fenómeno extraño donde hay algunos valores en `0` que seguramente están ahí por error. También vamos a realizar una pequeña apuesta y eliminar algunos valores de 'bmi' que parecen ser atípicos. Veamos cómo cambia nuestra gráfica:"
      ]
    },
    {
      "cell_type": "code",
      "metadata": {
        "id": "EHol_lU4JSp6"
      },
      "source": [
        "bmi_greater_than_zero = (df['bmi'] > 0) & (df['bmi'] < 55)\n",
        "glucose_greater_than_zero = df['glucose'] > 0\n",
        "df_no_zeros_2 = df[bmi_greater_than_zero & glucose_greater_than_zero]"
      ],
      "execution_count": null,
      "outputs": []
    },
    {
      "cell_type": "code",
      "metadata": {
        "id": "zYIBBnLUJSp7"
      },
      "source": [
        "sns.scatterplot(x=df_no_zeros_2['bmi'], y=df_no_zeros_2['glucose']);"
      ],
      "execution_count": null,
      "outputs": []
    },
    {
      "cell_type": "code",
      "metadata": {
        "id": "r5_wNneHJSp7"
      },
      "source": [
        "df_no_zeros_2['bmi'].corr(df_no_zeros_2['glucose'])"
      ],
      "execution_count": null,
      "outputs": []
    },
    {
      "cell_type": "markdown",
      "metadata": {
        "id": "dma18rOrJSp7"
      },
      "source": [
        "En este caso nuestro coeficiente de correlación mejoró pero no mucho. Es notable que la relación entre estas dos variables es bastante débil (si es que existe).\n",
        "\n",
        "---\n",
        "\n",
        "Vamos a revisar 'insulin' y 'skin_thickness' que tuvieron un coeficiente de 0.44:"
      ]
    },
    {
      "cell_type": "code",
      "metadata": {
        "id": "d2QWexNpJSp7"
      },
      "source": [
        "sns.scatterplot(x=df['insulin'],y=df['skin_thickness']);"
      ],
      "execution_count": null,
      "outputs": []
    },
    {
      "cell_type": "code",
      "metadata": {
        "id": "VUHDj895JSp8"
      },
      "source": [
        "df['insulin'].corr(df['skin_thickness'])"
      ],
      "execution_count": null,
      "outputs": []
    },
    {
      "cell_type": "markdown",
      "metadata": {
        "id": "Lql8uy8OJSp8"
      },
      "source": [
        "Ya sabemos que insulin tiene valores `0` que probablemente sean erróneos, así que usaremos nuestro DataFrame `df_no_zeros` para eliminarlos:"
      ]
    },
    {
      "cell_type": "code",
      "metadata": {
        "id": "VuIpr-VgJSp8"
      },
      "source": [
        "sns.scatterplot(x=df_no_zeros['insulin'], y=df_no_zeros['skin_thickness']);"
      ],
      "execution_count": null,
      "outputs": []
    },
    {
      "cell_type": "code",
      "metadata": {
        "id": "zRA9vlxjJSp8"
      },
      "source": [
        "df_no_zeros['insulin'].corr(df_no_zeros['skin_thickness'])"
      ],
      "execution_count": null,
      "outputs": []
    },
    {
      "cell_type": "markdown",
      "metadata": {
        "id": "djVcMa5EJSp9"
      },
      "source": [
        "¡¿Qué ha pasado aquí?! Un coeficiente de 0.4367 disminuyó a 0.1848 cuando eliminamos algunos valores que creemos son erróneos. Esto es una gran demostración de cómo nunca podemos confiar en una sola medida para realizar nuestras hipótesis. Con este dataset la verdad es que estamos explorando un poco a ciegas porque se requiere de conocimientos muy especializados para entender qué está pasando en realidad, pero resulta interesante que aún sin saber exactamente qué significan las variables, de todas maneras podemos encontrar comportamientos que generan muchas preguntas.\n",
        "\n",
        "Otra pregunta que me interesa plantearme es si acaso la relación entre estas dos variables podría mejorar si eliminamos los valores atípicos de 'insulin':"
      ]
    },
    {
      "cell_type": "code",
      "metadata": {
        "id": "SKRxPwBJJSp9"
      },
      "source": [
        "sns.boxplot(x=df_no_zeros['insulin']);"
      ],
      "execution_count": null,
      "outputs": []
    },
    {
      "cell_type": "code",
      "metadata": {
        "id": "eITq4micJSp9"
      },
      "source": [
        "iqr_insulin = df_no_zeros['insulin'].quantile(0.75) - df_no_zeros['insulin'].quantile(0.25)\n",
        "filter_upper_outliers = df_no_zeros['insulin'] < (df_no_zeros['insulin'].quantile(0.75) + iqr_insulin * 1.5)\n",
        "df_insulin_no_outliers = df_no_zeros[filter_upper_outliers]"
      ],
      "execution_count": null,
      "outputs": []
    },
    {
      "cell_type": "code",
      "metadata": {
        "id": "Sv3JQevbJSp9"
      },
      "source": [
        "sns.scatterplot(x=df_insulin_no_outliers['insulin'],y=df_insulin_no_outliers['skin_thickness']);"
      ],
      "execution_count": null,
      "outputs": []
    },
    {
      "cell_type": "code",
      "metadata": {
        "id": "d7X2YKQeJSp9"
      },
      "source": [
        "df_insulin_no_outliers['insulin'].corr(df_insulin_no_outliers['skin_thickness'])"
      ],
      "execution_count": null,
      "outputs": []
    },
    {
      "cell_type": "markdown",
      "metadata": {
        "id": "bUFm6dZsJSp-"
      },
      "source": [
        "Después de este procedimiento quedo bastante convencido de que la correlación positiva que habíamos encontrado anteriormente no era real. Ojalá y esto haya sido una demostración del cuidado que debemos de tener al explorar nuestras variables y las relaciones entre ellas."
      ]
    }
  ]
}