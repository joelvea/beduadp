{
  "nbformat": 4,
  "nbformat_minor": 0,
  "metadata": {
    "kernelspec": {
      "display_name": "Python 3",
      "language": "python",
      "name": "python3"
    },
    "language_info": {
      "codemirror_mode": {
        "name": "ipython",
        "version": 3
      },
      "file_extension": ".py",
      "mimetype": "text/x-python",
      "name": "python",
      "nbconvert_exporter": "python",
      "pygments_lexer": "ipython3",
      "version": "3.8.5"
    },
    "colab": {
      "name": "pairplots.ipynb",
      "provenance": [],
      "collapsed_sections": []
    }
  },
  "cells": [
    {
      "cell_type": "markdown",
      "metadata": {
        "id": "ewpAdLfUKx2v"
      },
      "source": [
        "# Ejemplo 4: Pairplots\n",
        "\n",
        "## 1. Objetivos:\n",
        "- Aprender a generar pairplots para visualizar la relación entre múltiples variables al mismo tiempo.\n",
        "    \n",
        "## 2. Desarrollo:"
      ]
    },
    {
      "cell_type": "markdown",
      "metadata": {
        "id": "pTrDmwCRKx2w"
      },
      "source": [
        "Recordarás por el último ejemplo que hemos aprendido que no basta con utilizar una sola medida o gráfica para entender la relación entre dos variables. Los pairplots son complementos naturales a las matrices de correlación, ya que permiten echarle un vistazo general a todo un dataset para tener una idea de qué es lo que está pasando."
      ]
    },
    {
      "cell_type": "code",
      "metadata": {
        "id": "O6N5jzsBKx2x"
      },
      "source": [
        "import pandas as pd\n",
        "import seaborn as sns\n",
        "import matplotlib.pyplot as plt"
      ],
      "execution_count": null,
      "outputs": []
    },
    {
      "cell_type": "code",
      "metadata": {
        "id": "4Bw1ljVZKx2y"
      },
      "source": [
        "df = pd.read_csv('https://raw.githubusercontent.com/manu-msr/beduadp/master/Datasets/diabetes-clean.csv', index_col=0)\n",
        "\n",
        "df.head()"
      ],
      "execution_count": null,
      "outputs": []
    },
    {
      "cell_type": "code",
      "metadata": {
        "id": "yMltK0AAKx2y"
      },
      "source": [
        "no_outcome = df.drop(columns=['outcome'])\n",
        "\n",
        "# Vamos a filtrar todos los valores iguales a 0 que ya vimos que nos causan distorsiones en nuestras medidas.\n",
        "\n",
        "no_zeros = no_outcome[no_outcome > 0]"
      ],
      "execution_count": null,
      "outputs": []
    },
    {
      "cell_type": "code",
      "metadata": {
        "id": "oazCPDuKKx2z"
      },
      "source": [
        "plt.figure(figsize=(8, 6))\n",
        "sns.heatmap(no_zeros.corr(), annot=True, linewidths=.5);"
      ],
      "execution_count": null,
      "outputs": []
    },
    {
      "cell_type": "markdown",
      "metadata": {
        "id": "S7-WxPilKx2z"
      },
      "source": [
        "Viendo nuestra matriz, vemos que hay 3 relaciones que parecen ser más o menos relevantes:\n",
        "\n",
        "1. 'insulin' vs 'glucose'\n",
        "2. 'skin_thickness' vs 'bmi'\n",
        "3. 'age' vs 'pregnancies'\n",
        "\n",
        "---\n",
        "\n",
        "Confirmemos estos hallazgos usando un pairplot:"
      ]
    },
    {
      "cell_type": "code",
      "metadata": {
        "id": "TI2o2zPAKx20"
      },
      "source": [
        "sns.pairplot(no_zeros);"
      ],
      "execution_count": null,
      "outputs": []
    },
    {
      "cell_type": "markdown",
      "metadata": {
        "id": "oaHxHMwGKx20"
      },
      "source": [
        "Viendo estas gráficas podemos confirmar que los pares 'skin_thickness-bmi' y 'glucose-insulin' parecen estar suficientemente relacionados. 'pregnancies-age' no es tan clara en la visualización.\n",
        "\n",
        "También podemos ver que en algunas de nuestras variables tenemos valores atípicos un poco extremos. Por ejemplo, en 'skin_thickness'. De hecho casi todas tienen algún valor que sobresale mucho.\n",
        "\n",
        "Para volver a confirmar que dos variables están relacionadas o no habría que proceder de la siguiente manera:\n",
        "\n",
        "1. Preguntarnos si estos valores atípicos son relevantes o podemos considerarlos anomalías (obviamente sólo un médico podría hacer esto efectivamente).\n",
        "2. Si los consideramos anomalías entonces habría que removerlos de nuestro dataset.\n",
        "3. Volver a cuantificar los coeficientes de correlación y las gráficas de pares para ver si algo cambio.\n",
        "\n",
        "Sinceramente, no parece ser que los valores atípicos estén distorsionando demasiado nuestros cálculos, pero de todas maneras sería una buena práctica proceder de esta manera para confirmar nuestras hipótesis.\n",
        "\n",
        "Por ejemplo, si elimino el valor atípico extremo de 'skin_thickness' realmente no cambian tanto nuestros coeficientes:"
      ]
    },
    {
      "cell_type": "code",
      "metadata": {
        "id": "6tJK5sIDKx20"
      },
      "source": [
        "no_zeros = no_zeros[no_zeros['skin_thickness'] < 80]"
      ],
      "execution_count": null,
      "outputs": []
    },
    {
      "cell_type": "code",
      "metadata": {
        "id": "nlsoTA2RKx21"
      },
      "source": [
        "plt.figure(figsize=(8, 6))\n",
        "sns.heatmap(no_zeros.corr(), annot=True, linewidths=.5);"
      ],
      "execution_count": null,
      "outputs": []
    },
    {
      "cell_type": "code",
      "metadata": {
        "id": "S1nN-9c1Kx21"
      },
      "source": [
        "sns.pairplot(no_zeros)"
      ],
      "execution_count": null,
      "outputs": []
    },
    {
      "cell_type": "markdown",
      "metadata": {
        "id": "SmiIqjBDKx21"
      },
      "source": [
        "También es muy importante siempre estar considerando el tamaño de tu dataset. Hay veces que removemos tantos valores que podemos quedarnos prácticamente sin dataset, lo cual indicaría, claro está, que nuestro dataset no es bueno."
      ]
    }
  ]
}