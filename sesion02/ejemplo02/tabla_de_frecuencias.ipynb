{
  "nbformat": 4,
  "nbformat_minor": 0,
  "metadata": {
    "kernelspec": {
      "display_name": "Python 3",
      "language": "python",
      "name": "python3"
    },
    "language_info": {
      "codemirror_mode": {
        "name": "ipython",
        "version": 3
      },
      "file_extension": ".py",
      "mimetype": "text/x-python",
      "name": "python",
      "nbconvert_exporter": "python",
      "pygments_lexer": "ipython3",
      "version": "3.9.2"
    },
    "colab": {
      "name": "tabla_de_frecuencias.ipynb",
      "provenance": [],
      "collapsed_sections": []
    }
  },
  "cells": [
    {
      "cell_type": "markdown",
      "metadata": {
        "id": "DLQNxu7gC7Tk"
      },
      "source": [
        "# Ejemplo 2: Tabla de frecuencias\n",
        "\n",
        "## 1. Objetivos:\n",
        "- Aprender a generar una tabla de frecuencias usando pd.cut\n",
        " \n",
        "---\n",
        "    \n",
        "## 2. Desarrollo:"
      ]
    },
    {
      "cell_type": "markdown",
      "metadata": {
        "id": "XnpdVi-BC7To"
      },
      "source": [
        "Como ya dijimos, las tablas de frecuencias dividen nuestro conjunto en segmentos de igual tamaño que contiene un número variable de muestras.\n",
        "\n",
        "Para generar una tabla de frecuencias, lo primero que hay que hacer es decidir en cuántos segmentos vamos a dividir nuestros datos."
      ]
    },
    {
      "cell_type": "code",
      "metadata": {
        "id": "vmtgmCY6C7Tr"
      },
      "source": [
        "import pandas as pd"
      ],
      "execution_count": null,
      "outputs": []
    },
    {
      "cell_type": "code",
      "metadata": {
        "id": "Hpv6LF8HC7Tt"
      },
      "source": [
        "df = pd.read_csv('https://raw.githubusercontent.com/manu-msr/beduadp/master/Datasets/melbourne_housing-clean.csv',index_col=0)\n",
        "df.head()"
      ],
      "execution_count": null,
      "outputs": []
    },
    {
      "cell_type": "code",
      "metadata": {
        "id": "sL_-iCz0C7Tv"
      },
      "source": [
        "prices = df['price']\n",
        "prices.max() - prices.min() #rango"
      ],
      "execution_count": null,
      "outputs": []
    },
    {
      "cell_type": "markdown",
      "metadata": {
        "id": "IpB2B7jOC7Tw"
      },
      "source": [
        "Tomando en cuenta nuestro rango, vamos a decidir dividir nuestro conjunto en 20 segmentos. Usemos ahora nuestro método `cut` para segmentar nuestros datos."
      ]
    },
    {
      "cell_type": "code",
      "metadata": {
        "id": "XJdue9foC7Tx"
      },
      "source": [
        "pd.cut(prices, 20) # cut divide la serie en segmentos"
      ],
      "execution_count": null,
      "outputs": []
    },
    {
      "cell_type": "markdown",
      "metadata": {
        "id": "vT1TKnTDC7Tx"
      },
      "source": [
        "Ok... ¿Qué acaba de suceder? `pd.cut` toma el rango completo de nuestros datos, y luego crea 20 segmentos de igual tamaño. Después, revisa uno por uno nuestros datos, los ubica en uno de los segmentos y nos regresa una `Serie` donde tenemos cada índice clasificado en el segmento que lo toca.\n",
        "\n",
        "Ahora, para dividir nuestro dataset por segmentos, podemos utilizar `pd.groupby` y pasarle la `Serie` que obtuvimos. Lo que hace `groupby` en este caso es leer la clasificación de cada índice y agruparlos de manera que todas las muestras que pertencen a la misma clasificación queden juntas.\n",
        "\n",
        "Después de agruparlos, podemos usar un `count` para saber cuántas muestras hay en cada grupo:"
      ]
    },
    {
      "cell_type": "code",
      "metadata": {
        "id": "xTXLLlO-C7Ty"
      },
      "source": [
        "segmentos = pd.cut(prices, 20)\n",
        "\n",
        "df['price'].groupby(segmentos).count()"
      ],
      "execution_count": null,
      "outputs": []
    },
    {
      "cell_type": "markdown",
      "metadata": {
        "id": "YfoCyPIUC7Tz"
      },
      "source": [
        "¡Y Listo! Tenemos una tabla donde los índices son los 20 rangos en los que se dividió nuestro dataset y los valores de la tabla son los conteos de cada agrupación. De esta manera quedan aún en más evidencia los valores atípicos, ya que podemos ver varios segmentos donde la cantidad de muestras es muy baja.\n",
        "\n",
        "Ésta podría ser aún otra manera de eliminar valores atípicos, ya que podríamos, por ejemplo, decidir eliminar todos los datos que se encuentran en segmentos con menos de 50 muestras."
      ]
    }
  ]
}