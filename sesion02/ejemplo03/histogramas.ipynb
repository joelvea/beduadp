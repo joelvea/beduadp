{
  "nbformat": 4,
  "nbformat_minor": 0,
  "metadata": {
    "kernelspec": {
      "display_name": "Python 3",
      "language": "python",
      "name": "python3"
    },
    "language_info": {
      "codemirror_mode": {
        "name": "ipython",
        "version": 3
      },
      "file_extension": ".py",
      "mimetype": "text/x-python",
      "name": "python",
      "nbconvert_exporter": "python",
      "pygments_lexer": "ipython3",
      "version": "3.9.2"
    },
    "colab": {
      "name": "histogramas.ipynb",
      "provenance": [],
      "collapsed_sections": []
    }
  },
  "cells": [
    {
      "cell_type": "markdown",
      "metadata": {
        "id": "OUEhu_mtDJO5"
      },
      "source": [
        "# Ejemplo 3: Histogramas\n",
        "\n",
        "## 1. Objetivos:\n",
        "- Aprender a generar histogramas usando seaborn\n",
        " \n",
        "---\n",
        "    \n",
        "## 2. Desarrollo:"
      ]
    },
    {
      "cell_type": "markdown",
      "metadata": {
        "id": "i8dz283rDJO7"
      },
      "source": [
        "Vamos a generar un histograma segmentando nuestros datos en 20 segmentos (o bins)."
      ]
    },
    {
      "cell_type": "code",
      "metadata": {
        "id": "yOZcExY3DJO8"
      },
      "source": [
        "import pandas as pd\n",
        "import seaborn as sns"
      ],
      "execution_count": null,
      "outputs": []
    },
    {
      "cell_type": "code",
      "metadata": {
        "id": "Nx3HkM0qDJO-"
      },
      "source": [
        "df = pd.read_csv('https://raw.githubusercontent.com/manu-msr/beduadp/master/Datasets/melbourne_housing-clean.csv',index_col=0)\n",
        "df.head()"
      ],
      "execution_count": null,
      "outputs": []
    },
    {
      "cell_type": "code",
      "metadata": {
        "id": "P1keSYaCDJPA"
      },
      "source": [
        "sns.set_style('white')"
      ],
      "execution_count": null,
      "outputs": []
    },
    {
      "cell_type": "code",
      "metadata": {
        "id": "dAv-zZklDJPB"
      },
      "source": [
        "sns.displot(df['price'], kde=False, bins=20);"
      ],
      "execution_count": null,
      "outputs": []
    },
    {
      "cell_type": "markdown",
      "metadata": {
        "id": "dQA_CudTDJPC"
      },
      "source": [
        "- La bandera `kde=False` evita que se grafique también la densidad de probabilidad (que veremos más adelante).\n",
        "- `bins=20` indica el número de segmentos.\n",
        "\n",
        "Esta gráfica indica con mucha claridad hacia donde \"tienden\" nuestros datos, ¿no es así?\n",
        "\n",
        "Podemos ver mucha más granularidad incluso si aumentamos el tamaño de nuestros `bins`:"
      ]
    },
    {
      "cell_type": "code",
      "metadata": {
        "id": "zkhxAoaODJPD"
      },
      "source": [
        "sns.set_style('ticks')\n",
        "sns.displot(df['price'], kde=False, bins=100);"
      ],
      "execution_count": null,
      "outputs": []
    },
    {
      "cell_type": "code",
      "metadata": {
        "id": "M4C9khE2DJPE"
      },
      "source": [
        ""
      ],
      "execution_count": null,
      "outputs": []
    }
  ]
}