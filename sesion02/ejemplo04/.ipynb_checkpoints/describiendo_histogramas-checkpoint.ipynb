{
 "cells": [
  {
   "cell_type": "markdown",
   "metadata": {},
   "source": [
    "# Ejemplo 4: Describiendo histogramas\n",
    "\n",
    "## 1. Objetivos:\n",
    "- Aprender algunos términos importantes para describir nuestros histogramas\n",
    " \n",
    "---\n",
    "    \n",
    "## 2. Desarrollo:"
   ]
  },
  {
   "cell_type": "code",
   "execution_count": 1,
   "metadata": {},
   "outputs": [],
   "source": [
    "import numpy as np\n",
    "import seaborn as sns\n",
    "from scipy.stats import skew, kurtosis\n",
    "\n",
    "sns.set_style('white')"
   ]
  },
  {
   "cell_type": "markdown",
   "metadata": {},
   "source": [
    "Vamos a ver algunas formas comunes que pueden tener nuestros histogramas. Normalmente las gráficas que obtengamos con datos provenientes del mundo real no encajan a la perfección con estas formas, pero ayuda tener referencias para poder describir nuestras gráficas.\n",
    "\n",
    "Solemos describir nuestros datos utilizando dos parámetros: asimetría y curtosis."
   ]
  },
  {
   "cell_type": "markdown",
   "metadata": {},
   "source": [
    "#### a) Asimetría (skewness)\n",
    "\n",
    "La asimetría nos da una medida de la falta de simetría en una distribución (duh). Una distribución es simétrica si se ve igual a la izquierda y derecha del punto central.\n",
    "\n",
    "- Una asimetría de 0 indica que la simetría de la distribución es perfecta.\n",
    "\n",
    "- Números positivos indican que hay una asimetría positiva, es decir que la cola de la derecha es más larga que la cola de la izquierda.\n",
    "\n",
    "- Números negativos indican que hay una asimetría negativa, es decir que la cola de la izquierda es más larga que la cola de la derecha."
   ]
  },
  {
   "cell_type": "markdown",
   "metadata": {},
   "source": [
    "#### b) Curtosis (kurtosis)\n",
    "\n",
    "La curtosis es una medida de la dispersión de nuestros datos. La curtosis nos dice qué tan escarpada o achatada está nuestra distribución.\n",
    "\n",
    "- Curtosis de 0 indica que la dispersión de nuestros datos es normal (más adelante aprenderemos exactamente qué significa esto).\n",
    "\n",
    "- Curtosis positiva indica que nuestra distribución está achatada. Esto implica que hay más dispersión de nuestros datos, que están más lejanos de nuestro punto central y que por lo tanto tenemos colas largas (comparadas con la cola normal).\n",
    "\n",
    "- Curtosis negativa indica que nuestra distribución está escarpada. Esto implica que hay menos dispersión de nuestros datos, que están más cercanos a nuestro punto central y que por lo tanto tenemos colas cortas (comparadas con la cola normal).\n",
    "\n",
    "No todas las técnicas para medida curtosis establecen la normalidad en 0, pero nosotros vamos a utilizar la default en `scipy` y `pandas`."
   ]
  },
  {
   "cell_type": "markdown",
   "metadata": {},
   "source": [
    "---\n",
    "\n",
    "Para calcular las medidas de curtosis y asimetría usaremos los métodos `kurtosis` y `skew` de la librería `scipy.stats`.\n",
    "\n",
    "Usando estas definiciones estamos listos para visualizar algunas distribuciones con características distintas:"
   ]
  },
  {
   "cell_type": "markdown",
   "metadata": {},
   "source": [
    "### Distribución Normal (Standard Normal)"
   ]
  },
  {
   "cell_type": "markdown",
   "metadata": {},
   "source": [
    "La distribución normal es una de las más famosas y más utilizadas. Muchos de los análisis estadísticos que hacemos toman a la distribución normal como un \"estándar\". Hay algunas medidas que incluso requieren que la distribución sea normal para funcionar. A través de este módulo nos toparemos varias veces con esta distribución y la exploraremos más a profundidad. Por el momento basta saber que la distribución normal tiene una asimetría de 0 y una curtosis de 0 (usando el método default de `scipy` y `pandas`.\n",
    "\n",
    "Otra cosa interesante es que la distribución normal estándar tiene un promedio de 0, una mediana de 0, una moda de 0 y una desviación estándar de 1. Esto implica que el 68% de los datos están a 1 desviación estándar de la media y el 95% de los datos están a 2 desviaciones estándares de la media.\n",
    "\n",
    "Esta distribución se ve así:"
   ]
  },
  {
   "cell_type": "code",
   "execution_count": null,
   "metadata": {},
   "outputs": [],
   "source": [
    "normal = np.random.normal(loc=0, scale=5, size=10000)"
   ]
  },
  {
   "cell_type": "code",
   "execution_count": null,
   "metadata": {},
   "outputs": [],
   "source": [
    "sns.displot(normal, kde=False);"
   ]
  },
  {
   "cell_type": "code",
   "execution_count": null,
   "metadata": {},
   "outputs": [],
   "source": [
    "print(f'Curtosis: {kurtosis(normal)}')\n",
    "print(f'Asimetría: {skew(normal)}')"
   ]
  },
  {
   "cell_type": "markdown",
   "metadata": {},
   "source": [
    "#### Distribuciones de cola corta (short-tailed)\n",
    "\n",
    "Las distribuciones de cola corta se concentran mucho en el punto central y casi no se extienden hacia los lados. Es raro en realidad encontrar distribuciones de cola corta, pero así se vería una:"
   ]
  },
  {
   "cell_type": "code",
   "execution_count": null,
   "metadata": {},
   "outputs": [],
   "source": [
    "cola_corta = np.array([2, 2, 3, 3, 3, 3, 3, 3, 4, 4, 4, 4, 4, 4, 4, 4, 5, 5, 5, 5, 5, 5, 5, 5, 6, 6, 6, 6, 6, 6, 6, 7, 7, 7, 7, 7, 8, 8, 8])"
   ]
  },
  {
   "cell_type": "code",
   "execution_count": null,
   "metadata": {},
   "outputs": [],
   "source": [
    "sns.displot(cola_corta, kde=False, bins=7);"
   ]
  },
  {
   "cell_type": "code",
   "execution_count": null,
   "metadata": {},
   "outputs": [],
   "source": [
    "print(f'Curtosis: {kurtosis(cola_corta)}')\n",
    "print(f'Asimetría: {skew(cola_corta)}')"
   ]
  },
  {
   "cell_type": "markdown",
   "metadata": {},
   "source": [
    "### Distribuciones de cola larga (fat-tailed)\n",
    "\n",
    "Estas distribuciones se extienden mucho hacia los lados (o hacia uno de los dos lados) a partir del punto central. Muchos fenómenos naturales y sociales tienen distribuciones de cola larga."
   ]
  },
  {
   "cell_type": "code",
   "execution_count": null,
   "metadata": {},
   "outputs": [],
   "source": [
    "cola_larga = np.random.laplace(loc=0.0, scale=1, size=10000)"
   ]
  },
  {
   "cell_type": "code",
   "execution_count": null,
   "metadata": {},
   "outputs": [],
   "source": [
    "sns.displot(cola_larga, kde=False)"
   ]
  },
  {
   "cell_type": "code",
   "execution_count": null,
   "metadata": {},
   "outputs": [],
   "source": [
    "print(f'Curtosis: {kurtosis(cola_larga)}')\n",
    "print(f'Asimetría: {skew(cola_larga)}')"
   ]
  },
  {
   "cell_type": "markdown",
   "metadata": {},
   "source": [
    "### Asimetría Positiva (right-skewed)\n",
    "\n",
    "Las distribuciones con asimetría positiva tienen colas más largas hacia el lado derecho del punto central."
   ]
  },
  {
   "cell_type": "code",
   "execution_count": null,
   "metadata": {},
   "outputs": [],
   "source": [
    "asimetria_positiva = np.random.exponential(scale=1.0, size=10000)"
   ]
  },
  {
   "cell_type": "code",
   "execution_count": null,
   "metadata": {},
   "outputs": [],
   "source": [
    "sns.displot(asimetria_positiva, kde=False)"
   ]
  },
  {
   "cell_type": "code",
   "execution_count": null,
   "metadata": {},
   "outputs": [],
   "source": [
    "print(f'Curtosis: {kurtosis(asimetria_positiva)}')\n",
    "print(f'Asimetría: {skew(asimetria_positiva)}')"
   ]
  },
  {
   "cell_type": "markdown",
   "metadata": {},
   "source": [
    "### Asimetría negativa (left-skewed)\n",
    "\n",
    "Las distribuciones con asimetría negativa tienen colas más largas hacia el lado izquierdo del punto central."
   ]
  },
  {
   "cell_type": "code",
   "execution_count": null,
   "metadata": {},
   "outputs": [],
   "source": [
    "asimetria_negativa = np.random.chisquare(4, size=10000) * -1"
   ]
  },
  {
   "cell_type": "code",
   "execution_count": null,
   "metadata": {},
   "outputs": [],
   "source": [
    "sns.displot(asimetria_negativa, kde=False);"
   ]
  },
  {
   "cell_type": "code",
   "execution_count": null,
   "metadata": {},
   "outputs": [],
   "source": [
    "print(f'Curtosis: {kurtosis(asimetria_negativa)}')\n",
    "print(f'Asimetría: {skew(asimetria_negativa)}')"
   ]
  },
  {
   "cell_type": "markdown",
   "metadata": {},
   "source": [
    "Hay algunas distribuciones que tienen valores muy extremos tanto de curtosis como de asimetría:"
   ]
  },
  {
   "cell_type": "code",
   "execution_count": null,
   "metadata": {},
   "outputs": [],
   "source": [
    "cauchy = np.random.standard_cauchy(size=1000)"
   ]
  },
  {
   "cell_type": "code",
   "execution_count": null,
   "metadata": {},
   "outputs": [],
   "source": [
    "sns.displot(cauchy, kde=False)"
   ]
  },
  {
   "cell_type": "code",
   "execution_count": null,
   "metadata": {},
   "outputs": [],
   "source": [
    "print(f'Curtosis: {kurtosis(cauchy)}')\n",
    "print(f'Asimetría: {skew(cauchy)}')"
   ]
  },
  {
   "cell_type": "markdown",
   "metadata": {},
   "source": [
    "### Distribución uniforme (uniform distribution)\n",
    "\n",
    "Una distribución uniforme se genera cuando todos los valores tienen la misma probabilidad (o casi) de suceder. Esto genera una gráfica bastante plana en la parte superior que además tiene una curtosis negativa (porque tiene \"colas\" muy gruesas):"
   ]
  },
  {
   "cell_type": "code",
   "execution_count": null,
   "metadata": {},
   "outputs": [],
   "source": [
    "uniform = np.random.uniform(low=-1, high=0, size=10000)"
   ]
  },
  {
   "cell_type": "code",
   "execution_count": null,
   "metadata": {},
   "outputs": [],
   "source": [
    "sns.displot(uniform, bins=15, kde=False);"
   ]
  },
  {
   "cell_type": "code",
   "execution_count": null,
   "metadata": {},
   "outputs": [],
   "source": [
    "print(f'Curtosis: {kurtosis(uniform)}')\n",
    "print(f'Asimetría: {skew(uniform)}')"
   ]
  },
  {
   "cell_type": "markdown",
   "metadata": {},
   "source": [
    "### Distribución bimodal y multimodal\n",
    "\n",
    "Hay veces que no tenemos un solo pico en nuestros datos. Puede suceder que haya dos o más concentraciones de valores en nuestros datos. A esto le llamamos distribuciones bimodales (cuando hay 2 concentraciones) y multimodales (cuando hay más de 2).\n",
    "\n",
    "Debemos de ser muy cuidadosos al usar las medidas de curtosis y asimetría con este tipo de distribuciones, ya que pueden darnos ideas erróneas de lo que realmente está sucediendo."
   ]
  },
  {
   "cell_type": "code",
   "execution_count": null,
   "metadata": {},
   "outputs": [],
   "source": [
    "normal_left = np.random.normal(loc=-2.5, scale=1, size=10000)\n",
    "normal_right = np.random.normal(loc=2.5, scale=1, size=10000)\n",
    "bimodal = np.concatenate([normal_left, normal_right])"
   ]
  },
  {
   "cell_type": "code",
   "execution_count": null,
   "metadata": {},
   "outputs": [],
   "source": [
    "sns.displot(bimodal, kde=False);"
   ]
  },
  {
   "cell_type": "code",
   "execution_count": null,
   "metadata": {},
   "outputs": [],
   "source": [
    "print(f'Curtosis: {kurtosis(bimodal)}')\n",
    "print(f'Asimetría: {skew(bimodal)}')"
   ]
  },
  {
   "cell_type": "code",
   "execution_count": null,
   "metadata": {},
   "outputs": [],
   "source": []
  }
 ],
 "metadata": {
  "kernelspec": {
   "display_name": "Python 3",
   "language": "python",
   "name": "python3"
  },
  "language_info": {
   "codemirror_mode": {
    "name": "ipython",
    "version": 3
   },
   "file_extension": ".py",
   "mimetype": "text/x-python",
   "name": "python",
   "nbconvert_exporter": "python",
   "pygments_lexer": "ipython3",
   "version": "3.9.2"
  }
 },
 "nbformat": 4,
 "nbformat_minor": 4
}
