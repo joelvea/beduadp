{
  "nbformat": 4,
  "nbformat_minor": 0,
  "metadata": {
    "kernelspec": {
      "display_name": "Python 3",
      "language": "python",
      "name": "python3"
    },
    "language_info": {
      "codemirror_mode": {
        "name": "ipython",
        "version": 3
      },
      "file_extension": ".py",
      "mimetype": "text/x-python",
      "name": "python",
      "nbconvert_exporter": "python",
      "pygments_lexer": "ipython3",
      "version": "3.9.2"
    },
    "colab": {
      "name": "media_truncada.ipynb",
      "provenance": [],
      "collapsed_sections": []
    }
  },
  "cells": [
    {
      "cell_type": "markdown",
      "metadata": {
        "id": "7V6raokdHoy7"
      },
      "source": [
        "# Ejemplo 2: Media Truncada\n",
        "\n",
        "## 1. Objetivos:\n",
        "- Aprender a estimar la media truncada usando scipy.\n",
        " \n",
        "---\n",
        "    \n",
        "## 2. Desarrollo:"
      ]
    },
    {
      "cell_type": "markdown",
      "metadata": {
        "id": "KIH6PRphHoy7"
      },
      "source": [
        "La media truncada es un estimado de locación más *robusto* que el promedio y la mediana. Esto significa que es menos sensible a valores atípicos. La media truncada se obtiene de la siguiente manera:\n",
        "\n",
        "1. Primero ordenamos nuestro conjunto de manera ascendente.\n",
        "2. Después decidimos qué porcentaje de nuestros datos vamos a truncar. Los valores más comunes suelen variar entre 5% y 25%.\n",
        "3. Divide el porcentaje acordado entre dos y elimina esa fracción de tus datos del inicio y del final de tu secuencia. Por ejemplo, si decides truncar un 5%, elimina el 2.5% de tus datos del inicio de tu secuencia y el otro 2.5% del final de tu secuencia.\n",
        "4. Obtén el promedio de los valores restantes.\n",
        "\n",
        "Afortunadamente, no tenemos que hacer esto manualmente. La biblioteca `scipy` ya ofrece un método para obtener la media truncada fácilmente:"
      ]
    },
    {
      "cell_type": "code",
      "metadata": {
        "id": "7XZ67efkHoy8"
      },
      "source": [
        "from scipy import stats\n",
        "import pandas as pd"
      ],
      "execution_count": 1,
      "outputs": []
    },
    {
      "cell_type": "code",
      "metadata": {
        "id": "7V7RQC06Hoy9"
      },
      "source": [
        "df = pd.read_csv('https://raw.githubusercontent.com/manu-msr/beduadp/master/Datasets/melbourne_housing-clean.csv', index_col=0)"
      ],
      "execution_count": 2,
      "outputs": []
    },
    {
      "cell_type": "code",
      "metadata": {
        "id": "vzfXbhk6Hoy9"
      },
      "source": [
        "df.head()"
      ],
      "execution_count": null,
      "outputs": []
    },
    {
      "cell_type": "code",
      "metadata": {
        "id": "5A2H2paLHoy-"
      },
      "source": [
        "mt = stats.trim_mean(df['price'], 0.1)\n",
        "mt"
      ],
      "execution_count": null,
      "outputs": []
    },
    {
      "cell_type": "markdown",
      "metadata": {
        "id": "HcTdKC5dHozA"
      },
      "source": [
        "Si obtenemos el promedio y la mediana podemos observar que la distancia entre la media truncada y la mediana es menor que la distancia entre el promedio y la mediana. Esto podría ser indicador de que tenemos valores atípicos en nuestro conjunto. Ya aprendemos después cómo determinar si esto es cierto o no."
      ]
    },
    {
      "cell_type": "code",
      "metadata": {
        "id": "IHpIR9XtHozB"
      },
      "source": [
        "p = abs(df['price'].mean() - mt)"
      ],
      "execution_count": null,
      "outputs": []
    },
    {
      "cell_type": "code",
      "metadata": {
        "id": "UCJDPQgvHozC"
      },
      "source": [
        "m = abs(df['price'].median() - mt)"
      ],
      "execution_count": null,
      "outputs": []
    },
    {
      "cell_type": "code",
      "metadata": {
        "id": "M59MNytfHozC"
      },
      "source": [
        "print(\"Distancia promedio: \" + str(p))\n",
        "print(\"Distancia mediana: \"   + str(m))\n",
        "\n",
        "if (p > m):\n",
        "    print(\"La mediana es más cercana\")\n",
        "else:\n",
        "    print(\"El promedio es más cercano\")"
      ],
      "execution_count": null,
      "outputs": []
    },
    {
      "cell_type": "code",
      "metadata": {
        "id": "GyDRHcsOHozD"
      },
      "source": [
        ""
      ],
      "execution_count": null,
      "outputs": []
    }
  ]
}