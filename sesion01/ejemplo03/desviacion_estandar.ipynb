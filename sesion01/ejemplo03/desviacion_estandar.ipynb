{
  "nbformat": 4,
  "nbformat_minor": 0,
  "metadata": {
    "kernelspec": {
      "display_name": "Python 3",
      "language": "python",
      "name": "python3"
    },
    "language_info": {
      "codemirror_mode": {
        "name": "ipython",
        "version": 3
      },
      "file_extension": ".py",
      "mimetype": "text/x-python",
      "name": "python",
      "nbconvert_exporter": "python",
      "pygments_lexer": "ipython3",
      "version": "3.9.2"
    },
    "colab": {
      "name": "desviacion_estandar.ipynb",
      "provenance": [],
      "collapsed_sections": []
    }
  },
  "cells": [
    {
      "cell_type": "markdown",
      "metadata": {
        "id": "tbwW2UjZI1dm"
      },
      "source": [
        "# Ejemplo 3: Desviación estándar\n",
        "\n",
        "## 1. Objetivos:\n",
        "- Aprender cómo se calcula la desviación estándar\n",
        "- Aprender a usar `pandas` para calcularla\n",
        " \n",
        "---\n",
        "    \n",
        "## 2. Desarrollo:"
      ]
    },
    {
      "cell_type": "markdown",
      "metadata": {
        "id": "trdyu5hrI1dn"
      },
      "source": [
        "Para obtener la desviación estándar se llevan a cabo los siguientes pasos:\n",
        "\n",
        "1. Primero se obtiene el promedio de nuestros datos.\n",
        "2. Después sacamos todas las diferencias entre cada valor de nuesrto conjunto y nuestro valor típico.\n",
        "3. Después elevamos todos los resultados al cuadrado.\n",
        "4. Luego se suman todos estos valores.\n",
        "5. Luego se dividen entre la cantidad de valores - 1.\n",
        "6. Finalmente se saca la raíz cuadrada del valor resultante.\n",
        "\n",
        "`pandas` tiene un método con el que podemos calcular la desviación estándar rápidamente:"
      ]
    },
    {
      "cell_type": "code",
      "metadata": {
        "id": "5DhqMPx3I1do"
      },
      "source": [
        "import pandas as pd"
      ],
      "execution_count": null,
      "outputs": []
    },
    {
      "cell_type": "code",
      "metadata": {
        "id": "8vzglzlJI1do"
      },
      "source": [
        "df = pd.read_csv('https://raw.githubusercontent.com/manu-msr/beduadp/master/Datasets/melbourne_housing-clean.csv', index_col=0)"
      ],
      "execution_count": null,
      "outputs": []
    },
    {
      "cell_type": "code",
      "metadata": {
        "id": "lqWlLXYEI1dp"
      },
      "source": [
        "df.head()"
      ],
      "execution_count": null,
      "outputs": []
    },
    {
      "cell_type": "code",
      "metadata": {
        "id": "G4HaxqrcI1dp"
      },
      "source": [
        "df['price'].std()"
      ],
      "execution_count": null,
      "outputs": []
    },
    {
      "cell_type": "code",
      "metadata": {
        "id": "ZxjjS90nI1dp"
      },
      "source": [
        "df['price'].count()"
      ],
      "execution_count": null,
      "outputs": []
    },
    {
      "cell_type": "markdown",
      "metadata": {
        "id": "pu2s0iYxI1dq"
      },
      "source": [
        "Entre mayor sea nuestro resultado quiere decir que nuestros datos están más dispersos (es decir, hay muchos datos que se alejan de nuestro valor típico); entre menor sea el resultado quiere decir que nuestros datos están menos dispersos (es decir, están más cerca de nuestro valor típico).\n",
        "\n",
        "Obviamente hay que tomar en cuenta el rango de nuestros valores para determinar si nuestra desviación estándar es pequeña o grande. Por ejemplo, una desviación estándar de 10 es muy pequeña si nuestros valores tienen un rango de 1 000 000. En cambio, una desviación estándar de 10 es mucho mayor si nuestros valores tienen un rango de 40."
      ]
    }
  ]
}