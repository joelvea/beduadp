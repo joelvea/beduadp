{
  "nbformat": 4,
  "nbformat_minor": 0,
  "metadata": {
    "kernelspec": {
      "display_name": "Python 3",
      "language": "python",
      "name": "python3"
    },
    "language_info": {
      "codemirror_mode": {
        "name": "ipython",
        "version": 3
      },
      "file_extension": ".py",
      "mimetype": "text/x-python",
      "name": "python",
      "nbconvert_exporter": "python",
      "pygments_lexer": "ipython3",
      "version": "3.9.2"
    },
    "colab": {
      "name": "estimados_de_locacion.ipynb",
      "provenance": [],
      "collapsed_sections": []
    }
  },
  "cells": [
    {
      "cell_type": "markdown",
      "metadata": {
        "id": "4yJDyvYBFoKA"
      },
      "source": [
        "# Ejemplo 1: Estimados de Locación\n",
        "\n",
        "## 1. Objetivos:\n",
        "- Aprender a calcular estimados de locación utilizando `pandas`.\n",
        " \n",
        "---\n",
        "    \n",
        "## 2. Desarrollo:"
      ]
    },
    {
      "cell_type": "markdown",
      "metadata": {
        "id": "o4xsWkZvFoKA"
      },
      "source": [
        "Vamos a utilizar un primer conjunto de datos para aprender a calcular estimados de locación usando `pandas`.\n",
        "\n",
        "El conjunto de datos que usaremos en esta sesión contiene información acerca de propiedades que estuvieron (o están) en venta en la ciudad de Melbourne, Australia. Contiene las características físicas de la propiedad, su locación, el tipo de vivienda que es y el precio de la propiedad.\n",
        "\n",
        "Vamos a analizar la variable precio para entender cómo están distribuidos los precios de propiedades en esta ciudad."
      ]
    },
    {
      "cell_type": "code",
      "metadata": {
        "id": "Y2dKmZg1FoKB"
      },
      "source": [
        "import pandas as pd"
      ],
      "execution_count": 1,
      "outputs": []
    },
    {
      "cell_type": "code",
      "metadata": {
        "id": "ZdGKFnCjFoKC"
      },
      "source": [
        "df = pd.read_csv('https://raw.githubusercontent.com/manu-msr/beduadp/master/Datasets/melbourne_housing-clean.csv', index_col=0)"
      ],
      "execution_count": 2,
      "outputs": []
    },
    {
      "cell_type": "code",
      "metadata": {
        "id": "iz3YZ2GjFoKC"
      },
      "source": [
        "df.head()"
      ],
      "execution_count": null,
      "outputs": []
    },
    {
      "cell_type": "markdown",
      "metadata": {
        "id": "YlguphE_FoKD"
      },
      "source": [
        "### La media o promedio\n",
        "\n",
        "La media o promedio se obtiene sumando todos los valores de un conjunto de datos numéricos y dividiéndolos entre la cantidad de valores que tenemos en nuestro conjunto.\n",
        "\n",
        "Vamos a analizar la columna `price`. Veamos cuál es el \"valor típico\" obtenido usando la media (promedio):"
      ]
    },
    {
      "cell_type": "code",
      "metadata": {
        "id": "OC47u06TFoKD"
      },
      "source": [
        "df['price'].mean()"
      ],
      "execution_count": null,
      "outputs": []
    },
    {
      "cell_type": "markdown",
      "metadata": {
        "id": "ACIzLFKwFoKE"
      },
      "source": [
        "### La mediana\n",
        "\n",
        "La mediana se obtiene de la siguiente manera:\n",
        "\n",
        "1. Primero ordenamos de manera ascendente nuestros datos\n",
        "2. Luego tomamos el valor que está justo en medio de nuestra secuencia ordenada de valores.\n",
        "3. Si nuestro conjunto tiene un número par de valores y por lo tanto no tiene un valor justo a la mitad de la secuencia, se toma el promedio de los dos valores que se encuentran a la mitad de la secuencia.\n",
        "\n",
        "Ahora veamos el \"valor típico\" obtenido usando la mediana:"
      ]
    },
    {
      "cell_type": "code",
      "metadata": {
        "id": "cc2X_kVKFoKF"
      },
      "source": [
        "df['price'].median()"
      ],
      "execution_count": null,
      "outputs": []
    },
    {
      "cell_type": "markdown",
      "metadata": {
        "id": "m8YYB4cKFoKG"
      },
      "source": [
        "Hemos obtenido valores distintos. Más adelante vamos a aprender qué significa esto y cómo podemos determinar si esta diferencia es relevante o no."
      ]
    }
  ]
}