{
  "nbformat": 4,
  "nbformat_minor": 0,
  "metadata": {
    "kernelspec": {
      "display_name": "Python 3",
      "language": "python",
      "name": "python3"
    },
    "language_info": {
      "codemirror_mode": {
        "name": "ipython",
        "version": 3
      },
      "file_extension": ".py",
      "mimetype": "text/x-python",
      "name": "python",
      "nbconvert_exporter": "python",
      "pygments_lexer": "ipython3",
      "version": "3.9.2"
    },
    "colab": {
      "name": "estadisticos_de_orden.ipynb",
      "provenance": [],
      "collapsed_sections": []
    }
  },
  "cells": [
    {
      "cell_type": "markdown",
      "metadata": {
        "id": "Gz04nQSrJwwQ"
      },
      "source": [
        "# Ejemplo 4: Estadísticos de Orden\n",
        "\n",
        "## 1. Objetivos:\n",
        "- Aprender a calcular el rango y los percentiles usando pandas\n",
        " \n",
        "---\n",
        "    \n",
        "## 2. Desarrollo:"
      ]
    },
    {
      "cell_type": "markdown",
      "metadata": {
        "id": "zzPlLMnWJwwR"
      },
      "source": [
        "#### Rango\n",
        "\n",
        "El rango es simplemente la diferencia entre el valor máximo de un conjunto y el valor mínimo de un conjunto. Por lo tanto, podemos obtenerla de esta manera:"
      ]
    },
    {
      "cell_type": "code",
      "metadata": {
        "id": "zUJm08ExJwwS"
      },
      "source": [
        "import pandas as pd"
      ],
      "execution_count": null,
      "outputs": []
    },
    {
      "cell_type": "code",
      "metadata": {
        "id": "BHgcveJfJwwS"
      },
      "source": [
        "df = pd.read_csv('https://raw.githubusercontent.com/manu-msr/beduadp/master/Datasets/melbourne_housing-clean.csv', index_col=0)"
      ],
      "execution_count": null,
      "outputs": []
    },
    {
      "cell_type": "code",
      "metadata": {
        "id": "5kcmzCCcJwwT"
      },
      "source": [
        "df.head()"
      ],
      "execution_count": null,
      "outputs": []
    },
    {
      "cell_type": "code",
      "metadata": {
        "id": "X2DW2WPSJwwT"
      },
      "source": [
        "df['price'].max() - df['price'].min()"
      ],
      "execution_count": null,
      "outputs": []
    },
    {
      "cell_type": "markdown",
      "metadata": {
        "id": "xcm9IQxyJwwU"
      },
      "source": [
        "#### Percentiles\n",
        "\n",
        "El percentil `P` es un valor que indica que por lo menos `P%` de los valores en el conjunto tienen este valor o un valor menor; mientras que `(100-P)%` de los valores tienen este valor o un valor mayor. Por ejemplo, para obtener el percentil 80 primero ordenamos nuestro conjunto de manera ascendente y después elegimos un valor de manera que el 80% de los valores en nuestro conjunto sean iguales o menores a ese valor.\n",
        "\n",
        "En `pandas`, los percentiles están implementados como cuantiles, que es lo mismo que los percentiles pero en versión fracciones. Es decir, el percentil 80 es lo  mismo que el cuantil 0.8."
      ]
    },
    {
      "cell_type": "code",
      "metadata": {
        "id": "OSXEF2qIJwwU"
      },
      "source": [
        "df['price'].quantile(0.8)"
      ],
      "execution_count": null,
      "outputs": []
    },
    {
      "cell_type": "markdown",
      "metadata": {
        "id": "GBcCYja5JwwV"
      },
      "source": [
        "En este caso, el 80% de los valores en nuestro conjunto de datos tienen un valor menor o igual a 1 440 000.\n",
        "\n",
        "Como podrás ya haber imaginado, el valor mínimo equivale al percentil 0 y el valor máximo equivale al percentil 100, mientras que la mediana es exactamente igual que el percentil 50.\n",
        "\n",
        "Sacando los percentiles podemos darnos una idea más o menos precisa de cómo están distribuidos nuestros datos.\n",
        "\n",
        "Por ejemplo:"
      ]
    },
    {
      "cell_type": "code",
      "metadata": {
        "id": "yzrJMUwJJwwW"
      },
      "source": [
        "print(f'Valor mínimo: {df[\"price\"].min()}')\n",
        "print(f'Percentil 0: {df[\"price\"].quantile(0)}')\n",
        "print(f'Percentil 10: {df[\"price\"].quantile(0.1)}')\n",
        "print(f'Percentil 25: {df[\"price\"].quantile(0.25)}')\n",
        "print(f'Percentil 50: {df[\"price\"].median()}')\n",
        "print(f'Mediana: {df[\"price\"].quantile(0.5)}')\n",
        "print(f'Percentil 75: {df[\"price\"].quantile(0.75)}')\n",
        "print(f'Percentil 90: {df[\"price\"].quantile(0.9)}')\n",
        "print(f'Percentil 100: {df[\"price\"].quantile(1)}')\n",
        "print(f'Valor máximo: {df[\"price\"].max()}')\n",
        "print(f'Promedio: {df[\"price\"].mean()}')"
      ],
      "execution_count": null,
      "outputs": []
    },
    {
      "cell_type": "markdown",
      "metadata": {
        "id": "nNi_z9spJwwW"
      },
      "source": [
        "Viendo estos números podemos inferir varias cosas:\n",
        "\n",
        "- Casi todos nuestros datos están concentrados en valores menores a 2 000 000.\n",
        "- Eso quiere decir que tenemos algunos valores atípicos *demasiado* grandes (si los comparamos con el resto de los valores)\n",
        "- La mediana nos estaba dando un número más cercano al verdadero \"valor típico\" que el promedio.\n",
        "- El promedio tenía un sesgo hacia arriba debido a los valores extremadamente grandes.\n",
        "- El rango entre el valor máximo y mínimo no nos da una medida representativa de qué valores pueden tomar nuestros datos.\n",
        "\n",
        "#### Rango intercuartílico\n",
        "\n",
        "Otra medida muy común es lo que llamamos el rango intercuartílico, que es la diferencia entre el percentil 75 y el percentil 25. Este número nos da una idea del rango que tienen los valores más cercanos al valor típico.\n",
        "\n",
        "En nuestro ejemplo, nuestro rango intercuartílico sería:"
      ]
    },
    {
      "cell_type": "code",
      "metadata": {
        "id": "mv1k5XqCJwwX"
      },
      "source": [
        "df[\"price\"].quantile(0.75) - df[\"price\"].quantile(0.25)"
      ],
      "execution_count": null,
      "outputs": []
    },
    {
      "cell_type": "markdown",
      "metadata": {
        "id": "D01rigROJwwX"
      },
      "source": [
        "Podemos observar que el rango de los \"valores típicos\" es muchísimo menor al rango total de nuestros datos.\n",
        "\n",
        "¡En la próxima sesión vamos a aprender a visualizar estas estadísticas para que las relaciones entre ellas queden mucho más claras!"
      ]
    }
  ]
}