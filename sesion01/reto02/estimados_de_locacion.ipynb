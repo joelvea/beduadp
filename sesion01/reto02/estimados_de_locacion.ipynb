{
  "nbformat": 4,
  "nbformat_minor": 0,
  "metadata": {
    "kernelspec": {
      "display_name": "Python 3",
      "language": "python",
      "name": "python3"
    },
    "language_info": {
      "codemirror_mode": {
        "name": "ipython",
        "version": 3
      },
      "file_extension": ".py",
      "mimetype": "text/x-python",
      "name": "python",
      "nbconvert_exporter": "python",
      "pygments_lexer": "ipython3",
      "version": "3.9.2"
    },
    "colab": {
      "name": "estimados_de_locacion.ipynb",
      "provenance": [],
      "collapsed_sections": []
    }
  },
  "cells": [
    {
      "cell_type": "markdown",
      "metadata": {
        "id": "ZCQfVszVGv5d"
      },
      "source": [
        "# Reto 2: Estimados de locación\n",
        "\n",
        "## 1. Objetivos:\n",
        "- Implementar los algoritmos para obtener estimados de locación sin utilizar los métodos builtin de pandas\n",
        " \n",
        "---\n",
        "    \n",
        "## 2. Desarrollo:"
      ]
    },
    {
      "cell_type": "markdown",
      "metadata": {
        "id": "6h6Z5mVdGv5f"
      },
      "source": [
        "### a) Implementando estimados de locación\n",
        "\n",
        "Este Reto consiste en implementar el promedio y la mediana sin utilizar los métodos `mean` y `median` que vienen incluidos en `pandas`. Implementar algoritmos desde 0 es una excelente práctica que nos ayuda a entenderlos mejor y recordarlos con más precisión.\n",
        "\n",
        "Puedes utilizar `pandas` y otras funciones vectorizadas o de reducción. Las únicas funciones que no están permitidas son `mean` y `median`. Las dos funciones que vas a crear deben recibir una serie de `pandas` y regresar un solo número."
      ]
    },
    {
      "cell_type": "code",
      "metadata": {
        "id": "QpNq5VshGv5f"
      },
      "source": [
        "def promedio_custom(serie):\n",
        "    # Aquí va tu código."
      ],
      "execution_count": null,
      "outputs": []
    },
    {
      "cell_type": "code",
      "metadata": {
        "id": "w7ciTAtwGv5g"
      },
      "source": [
        "def mediana_custom(serie):\n",
        "    # Aquí va tu código."
      ],
      "execution_count": null,
      "outputs": []
    },
    {
      "cell_type": "markdown",
      "metadata": {
        "id": "2H4KiLLdGv5h"
      },
      "source": [
        "### b) Estimados de locación de diámetros de meteoritos\n",
        "\n",
        "Ahora vamos a utilizar nuestras funciones custom para obtener estimados de locación de un conjunto de datos que contiene información acerca de objetos que orbitaron cerca de la Tierra durante el periodo de enero y febrero de 1995.\n",
        "\n",
        "El dataset se llama 'near_earth_objects-jan_feb_1995-clean.csv' y la columna que vamos a analizar se llama 'estimated_diameter.meters.estimated_diameter_max'. Esta columna contiene el diámetro máximo estimado de cada objeto.\n",
        "\n",
        "El reto es el siguiente:\n",
        "\n",
        "1. Lee el dataset usando `pandas`.\n",
        "2. Obtén el promedio y la mediana usando tus funciones custom y asígnalas a `promedio_diametro` y `mediana_diametro`."
      ]
    },
    {
      "cell_type": "markdown",
      "metadata": {
        "id": "qtb9vNDRHU2N"
      },
      "source": [
        "**Ruta dataset:** https://raw.githubusercontent.com/manu-msr/beduadp/master/Datasets/near_earth_objects-raw.csv"
      ]
    }
  ]
}