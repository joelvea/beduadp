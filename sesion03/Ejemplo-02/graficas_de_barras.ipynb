{
  "nbformat": 4,
  "nbformat_minor": 0,
  "metadata": {
    "kernelspec": {
      "display_name": "Python 3",
      "language": "python",
      "name": "python3"
    },
    "language_info": {
      "codemirror_mode": {
        "name": "ipython",
        "version": 3
      },
      "file_extension": ".py",
      "mimetype": "text/x-python",
      "name": "python",
      "nbconvert_exporter": "python",
      "pygments_lexer": "ipython3",
      "version": "3.8.5"
    },
    "colab": {
      "name": "graficas_de_barras.ipynb",
      "provenance": [],
      "collapsed_sections": []
    }
  },
  "cells": [
    {
      "cell_type": "markdown",
      "metadata": {
        "id": "Cv41bRVzXVM6"
      },
      "source": [
        "# Ejemplo 2: Gráficas de barras\n",
        "\n",
        "## 1. Objetivos:\n",
        "- Aprender a realizar gráficas de barras con frecuencias y porcentajes\n",
        " \n",
        "---\n",
        "    \n",
        "## 2. Desarrollo:"
      ]
    },
    {
      "cell_type": "code",
      "metadata": {
        "id": "mNTi9cZoXVM7"
      },
      "source": [
        "import pandas as pd\n",
        "import seaborn as sns\n",
        "sns.set_style('white')"
      ],
      "execution_count": null,
      "outputs": []
    },
    {
      "cell_type": "code",
      "metadata": {
        "id": "fs1hjRn-XVM8"
      },
      "source": [
        "df = pd.read_json('https://raw.githubusercontent.com/manu-msr/beduadp/master/Datasets/zomato_reviews-clean.json')\n",
        "\n",
        "df.head()"
      ],
      "execution_count": null,
      "outputs": []
    },
    {
      "cell_type": "markdown",
      "metadata": {
        "id": "VZh9ppeBXVM9"
      },
      "source": [
        "En este dataset tenemos una variable llamada 'user_rating' que es categórica. Para saber si es categórica podemos primero revisar con el método `unique` para ver todos los valores únicos contenidos en esa columna:"
      ]
    },
    {
      "cell_type": "code",
      "metadata": {
        "id": "Ce75ms_0XVM-"
      },
      "source": [
        "df['user_rating'].unique()"
      ],
      "execution_count": null,
      "outputs": []
    },
    {
      "cell_type": "code",
      "metadata": {
        "id": "LodnHJ47XVM_"
      },
      "source": [
        "df['user_rating'].nunique()"
      ],
      "execution_count": null,
      "outputs": []
    },
    {
      "cell_type": "markdown",
      "metadata": {
        "id": "DFNT8YwqXVM_"
      },
      "source": [
        "`nunique` nos da el número de categorías que tenemos.\n",
        "\n",
        "Ahora, para poder graficar nuestra variable como gráfica de barras necesitamos los conteos de frecuencias de cada categoría (es decir, cuántas veces aparece cada categoría. Para eso `pandas` nos ofrece un método llamado `value_counts`:"
      ]
    },
    {
      "cell_type": "code",
      "metadata": {
        "id": "KJbFCm9QXVNA"
      },
      "source": [
        "df['user_rating'].value_counts()"
      ],
      "execution_count": null,
      "outputs": []
    },
    {
      "cell_type": "markdown",
      "metadata": {
        "id": "P0gAgvnkXVNA"
      },
      "source": [
        "El método nos regresa una `Serie` con los nombres de la categorías como índices y los conteos como valores. Esta tabla la podemos usar para generar nuestra gráfica:"
      ]
    },
    {
      "cell_type": "code",
      "metadata": {
        "id": "Q81praZ9XVNB"
      },
      "source": [
        "counts = df['user_rating'].value_counts()"
      ],
      "execution_count": null,
      "outputs": []
    },
    {
      "cell_type": "code",
      "metadata": {
        "id": "88FxvCy-XVNB"
      },
      "source": [
        "ax = sns.barplot(x=counts.index, y=counts)\n",
        "ax.set_title('Conteo de Ratings de restaurantes')\n",
        "ax.set(ylabel='count');"
      ],
      "execution_count": null,
      "outputs": []
    },
    {
      "cell_type": "markdown",
      "metadata": {
        "id": "t1ld5hIhXVNC"
      },
      "source": [
        "Ahora, si queremos que el eje y sean porcentajes en vez de conteos, podemos simplemente transformar nuestra `Serie` `counts` con una simple regla de 3:"
      ]
    },
    {
      "cell_type": "code",
      "metadata": {
        "id": "yyfpafMbXVNC"
      },
      "source": [
        "counts * 100 / counts.sum()"
      ],
      "execution_count": null,
      "outputs": []
    },
    {
      "cell_type": "code",
      "metadata": {
        "id": "kuS6iuxRXVNC"
      },
      "source": [
        "as_percentages = counts * 100 / counts.sum()"
      ],
      "execution_count": null,
      "outputs": []
    },
    {
      "cell_type": "code",
      "metadata": {
        "id": "_tPktjH2XVND"
      },
      "source": [
        "ax = sns.barplot(x=as_percentages.index,y=as_percentages)\n",
        "ax.set_title('Conteo de Ratings de restaurantes(como porcentajes)')\n",
        "ax.set(ylabel='porcentaje del total');"
      ],
      "execution_count": null,
      "outputs": []
    },
    {
      "cell_type": "markdown",
      "metadata": {
        "id": "Df7vtSI7XVND"
      },
      "source": [
        "Si quieres acomodar los nombres de tus tics en el eje x, puedes utilizar el siguiente código para cambiarles la rotación:"
      ]
    },
    {
      "cell_type": "code",
      "metadata": {
        "id": "RXnbzNp_XVND"
      },
      "source": [
        "ax = sns.barplot(x=as_percentages.index,y=as_percentages)\n",
        "ax.set_title('Conteo de Ratings de restaurantes(como porcentajes)')\n",
        "ax.set(ylabel='porcentaje del total')\n",
        "ax.set_xticklabels(ax.get_xticklabels(), rotation=50);"
      ],
      "execution_count": null,
      "outputs": []
    },
    {
      "cell_type": "markdown",
      "metadata": {
        "id": "oB_rZV6bXVNE"
      },
      "source": [
        "En este caso no había mucha necesidad de rotar los nombres, pero hay veces que rotar los nombres y/o cambiar el tamaño de la gráfica es la única manera de hacerlos comprensibles.\n",
        "\n",
        "---"
      ]
    },
    {
      "cell_type": "markdown",
      "metadata": {
        "id": "_15xtRE4XVNE"
      },
      "source": [
        "Hay veces que resulta más cómodo y comprensible acomodar nuestras barras de manera horizontal. Esto puede hacerse muy fácilmente agregando la bandera `orient='h'` y cambiando el orden de nuestros inputs:"
      ]
    },
    {
      "cell_type": "code",
      "metadata": {
        "id": "DoRjuxkKXVNE"
      },
      "source": [
        "ax = sns.barplot(x=as_percentages, y=as_percentages.index, orient='h')\n",
        "ax.set_title('Conteo de Ratings de restaurantes(como porcentajes)')\n",
        "ax.set(xlabel='porcentaje del total');"
      ],
      "execution_count": null,
      "outputs": []
    },
    {
      "cell_type": "markdown",
      "metadata": {
        "id": "uF8yC8PnXVNE"
      },
      "source": [
        "#### La Moda"
      ]
    },
    {
      "cell_type": "markdown",
      "metadata": {
        "id": "M4LKcQ1JXVNF"
      },
      "source": [
        "La moda es el \"valor típico\" de nuestra variable categórica. Representa la categoría que más veces aparece en nuestro conjunto de datos.\n",
        "\n",
        "Podemos extraer la moda de la tabla de `value_counts` o de la gráfica de barras, pero `pandas` también ofrece un método para obtenerla fácilmente:"
      ]
    },
    {
      "cell_type": "code",
      "metadata": {
        "id": "RkApAgr3XVNF"
      },
      "source": [
        "df['user_rating'].mode()"
      ],
      "execution_count": null,
      "outputs": []
    },
    {
      "cell_type": "code",
      "metadata": {
        "id": "SV621SOxXVNF"
      },
      "source": [
        ""
      ],
      "execution_count": null,
      "outputs": []
    }
  ]
}