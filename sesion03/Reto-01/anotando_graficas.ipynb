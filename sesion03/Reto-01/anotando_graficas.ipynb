{
  "nbformat": 4,
  "nbformat_minor": 0,
  "metadata": {
    "kernelspec": {
      "display_name": "Python 3",
      "language": "python",
      "name": "python3"
    },
    "language_info": {
      "codemirror_mode": {
        "name": "ipython",
        "version": 3
      },
      "file_extension": ".py",
      "mimetype": "text/x-python",
      "name": "python",
      "nbconvert_exporter": "python",
      "pygments_lexer": "ipython3",
      "version": "3.8.5"
    },
    "colab": {
      "name": "anotando_graficas.ipynb",
      "provenance": [],
      "collapsed_sections": []
    }
  },
  "cells": [
    {
      "cell_type": "markdown",
      "metadata": {
        "id": "QjcYlJNmYLt5"
      },
      "source": [
        "# Reto 1: Anotando gráficas\n",
        "\n",
        "## 1. Objetivos:\n",
        "- Aprender a hacer gráficas más claras añadiendo anotaciones y cambiando el tamaño\n",
        " \n",
        "---\n",
        "    \n",
        "## 2. Desarrollo:"
      ]
    },
    {
      "cell_type": "markdown",
      "metadata": {
        "id": "VaurTKIeYLt-"
      },
      "source": [
        "A continuación verás algunas gráficas que han sido realizadas de antemano. Tu Reto es añadir títulos, nombres de ejes, leyendas, etc. para que estas gráficas sean más comprensibles. En el caso de que sea necesario, aumenta también el tamaño de la gráfica\n",
        "\n",
        "Para que puedas echarle un vistazo al tema de este dataset, [visita este link](https://www.kaggle.com/uciml/pima-indians-diabetes-database). Es importante saber de qué hablamos para saber anotar correctamente nuestras gráficas.\n",
        "\n",
        "Entonces:\n",
        "\n",
        "1. Aumenta de tamaño la gráfica si consideras que sería más comprensible de esa manera\n",
        "2. Donde sea adecuado, añade títulos, nombres de ejes y leyendas"
      ]
    },
    {
      "cell_type": "code",
      "metadata": {
        "id": "SBWvtBamYLt_"
      },
      "source": [
        "import pandas as pd\n",
        "import matplotlib.pyplot as plt\n",
        "import seaborn as sns\n",
        "sns.set_style('white')"
      ],
      "execution_count": null,
      "outputs": []
    },
    {
      "cell_type": "code",
      "metadata": {
        "id": "eWLLRfJ9YLuA"
      },
      "source": [
        "df = pd.read_csv('https://raw.githubusercontent.com/manu-msr/beduadp/master/Datasets/diabetes-clean.csv', index_col=0)\n",
        "\n",
        "df.head()"
      ],
      "execution_count": null,
      "outputs": []
    },
    {
      "cell_type": "markdown",
      "metadata": {
        "id": "ItvZrH9hYLuB"
      },
      "source": [
        "### a)"
      ]
    },
    {
      "cell_type": "code",
      "metadata": {
        "id": "FnaDVF4nYLuC"
      },
      "source": [
        "sns.displot(df['glucose'], kde=False)"
      ],
      "execution_count": null,
      "outputs": []
    },
    {
      "cell_type": "markdown",
      "metadata": {
        "id": "tUEbmgASYLuC"
      },
      "source": [
        "### b)"
      ]
    },
    {
      "cell_type": "code",
      "metadata": {
        "id": "kxsOita3YLuD"
      },
      "source": [
        "pregnancy_counts = df['pregnancies'].value_counts()\n",
        "sns.barplot(x=pregnancy_counts.index, y=pregnancy_counts)"
      ],
      "execution_count": null,
      "outputs": []
    },
    {
      "cell_type": "markdown",
      "metadata": {
        "id": "I8iomBVaYLuE"
      },
      "source": [
        "### c)"
      ]
    },
    {
      "cell_type": "code",
      "metadata": {
        "id": "ck-0eblMYLuF"
      },
      "source": [
        "healthy = df[df['outcome'] == 0]\n",
        "sick = df[df['outcome'] == 1]\n",
        "sns.kdeplot(healthy['glucose'], shade=True)\n",
        "sns.kdeplot(sick['glucose'], shade=True)"
      ],
      "execution_count": null,
      "outputs": []
    },
    {
      "cell_type": "markdown",
      "metadata": {
        "id": "ZYXvrLSxYLuG"
      },
      "source": [
        "### d)"
      ]
    },
    {
      "cell_type": "code",
      "metadata": {
        "id": "yd8NZ39wYLuH"
      },
      "source": [
        "sns.kdeplot(sick['blood_pressure'], shade=True)\n",
        "sns.kdeplot(sick['glucose'], shade=True)\n",
        "sns.kdeplot(sick['insulin'], shade=True)"
      ],
      "execution_count": null,
      "outputs": []
    },
    {
      "cell_type": "code",
      "metadata": {
        "id": "RwDEhGdEYLuI"
      },
      "source": [
        ""
      ],
      "execution_count": null,
      "outputs": []
    }
  ]
}