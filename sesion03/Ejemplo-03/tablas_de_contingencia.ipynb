{
  "nbformat": 4,
  "nbformat_minor": 0,
  "metadata": {
    "kernelspec": {
      "display_name": "Python 3",
      "language": "python",
      "name": "python3"
    },
    "language_info": {
      "codemirror_mode": {
        "name": "ipython",
        "version": 3
      },
      "file_extension": ".py",
      "mimetype": "text/x-python",
      "name": "python",
      "nbconvert_exporter": "python",
      "pygments_lexer": "ipython3",
      "version": "3.8.5"
    },
    "colab": {
      "name": "tablas_de_contingencia.ipynb",
      "provenance": [],
      "collapsed_sections": []
    }
  },
  "cells": [
    {
      "cell_type": "markdown",
      "metadata": {
        "id": "kXz6OK-3XkrR"
      },
      "source": [
        "# Ejemplo 3: Tablas de contingencia\n",
        "\n",
        "## 1. Objetivos:\n",
        "- Aprender a generar tablas de contingencia usando el método `crosstab`\n",
        " \n",
        "---\n",
        "    \n",
        "## 2. Desarrollo:"
      ]
    },
    {
      "cell_type": "code",
      "metadata": {
        "id": "o19Vr7mJXkrV"
      },
      "source": [
        "import pandas as pd"
      ],
      "execution_count": null,
      "outputs": []
    },
    {
      "cell_type": "code",
      "metadata": {
        "id": "ytfluqy2XkrW"
      },
      "source": [
        "df = pd.read_json('https://raw.githubusercontent.com/manu-msr/beduadp/master/Datasets/zomato_reviews-clean.json')\n",
        "\n",
        "df.head()"
      ],
      "execution_count": null,
      "outputs": []
    },
    {
      "cell_type": "markdown",
      "metadata": {
        "id": "TpMjPlWRXkrX"
      },
      "source": [
        "Podemos usar el método `crosstab` para generar tablas de contingencia usando dos de nuestras variables categóricas:"
      ]
    },
    {
      "cell_type": "code",
      "metadata": {
        "id": "43qB00U5XkrY"
      },
      "source": [
        "pd.crosstab(df['price_range'], df['user_rating'])"
      ],
      "execution_count": null,
      "outputs": []
    },
    {
      "cell_type": "markdown",
      "metadata": {
        "id": "Tl__YoBkXkrY"
      },
      "source": [
        "Podemos obtener una columna y una fila con los totales añadiendo la bandera `margins` y `margins_name`:"
      ]
    },
    {
      "cell_type": "code",
      "metadata": {
        "id": "03XZE4-1XkrZ"
      },
      "source": [
        "pd.crosstab(df['price_range'], df['user_rating'], margins=True, margins_name='total')"
      ],
      "execution_count": null,
      "outputs": []
    },
    {
      "cell_type": "markdown",
      "metadata": {
        "id": "ECJnUdEAXkra"
      },
      "source": [
        "Como puedes observar, el índice está indicando la primera agrupación de nuestros datos (la columna 'price_range'), mientras que las columnas indican la segunda agrupación (la columna 'user_rating')."
      ]
    },
    {
      "cell_type": "markdown",
      "metadata": {
        "id": "Wj80tw4LXkrb"
      },
      "source": [
        "---\n",
        "\n",
        "También podemos añadir una variable categórica más para generar múltiples niveles en las columnas:"
      ]
    },
    {
      "cell_type": "code",
      "metadata": {
        "id": "87QTpDK2Xkrc"
      },
      "source": [
        "pd.crosstab(df['price_range'], [df['has_online_delivery'], df['user_rating']], margins=True, margins_name='total')"
      ],
      "execution_count": null,
      "outputs": []
    },
    {
      "cell_type": "markdown",
      "metadata": {
        "id": "qAc8mbKKXkrd"
      },
      "source": [
        "### Múltiples niveles en columnas\n",
        "\n",
        "Es un buen momento para aprender a indexar múltiples niveles en columnas. Recordarás que los multiíndices en filas se indexan de la siguiente forma:\n",
        "\n",
        "`df.loc[(primer_indice, segundo_indice)]`\n",
        "\n",
        "Cuando tenemos múltiples niveles en las columnas, simplemente pasamos como primer valor nuestra indexación por filas, y después una tupla con la indexación por columnas:"
      ]
    },
    {
      "cell_type": "code",
      "metadata": {
        "id": "DDTwamghXkre"
      },
      "source": [
        "crosstab = pd.crosstab(df['price_range'], [df['has_online_delivery'], df['user_rating']])\n",
        "crosstab"
      ],
      "execution_count": null,
      "outputs": []
    },
    {
      "cell_type": "code",
      "metadata": {
        "id": "oY-hTuEVXkrf"
      },
      "source": [
        "crosstab.loc[:, (0)]"
      ],
      "execution_count": null,
      "outputs": []
    },
    {
      "cell_type": "code",
      "metadata": {
        "id": "otDflaEZXkrg"
      },
      "source": [
        "crosstab.loc[:, (1, 'Poor')]"
      ],
      "execution_count": null,
      "outputs": []
    },
    {
      "cell_type": "markdown",
      "metadata": {
        "id": "ocTnsD8bXkrh"
      },
      "source": [
        "Aquí hemos obtenido la columna 'Poor' del grupo `has_online_delivery == 1`."
      ]
    },
    {
      "cell_type": "markdown",
      "metadata": {
        "id": "Ibtw9BiMXkrh"
      },
      "source": [
        "---\n",
        "\n",
        "También otra cosa que podríamos hacer es usar el método `stack`. `stack` lo que hace es tomar una de nuestras columnas y convertirla en índice. Si le pedimos que haga el `stack` en el nivel 0, convertirá el nivel 'has_online_delivery' en índice:"
      ]
    },
    {
      "cell_type": "code",
      "metadata": {
        "id": "9CtJSUcEXkrh"
      },
      "source": [
        "crosstab.stack(level=0)"
      ],
      "execution_count": null,
      "outputs": []
    },
    {
      "cell_type": "code",
      "metadata": {
        "id": "gMUtq1frXkri"
      },
      "source": [
        "stack_level_0 = crosstab.stack(level=0)\n",
        "\n",
        "stack_level_0.loc[(2)]"
      ],
      "execution_count": null,
      "outputs": []
    },
    {
      "cell_type": "code",
      "metadata": {
        "id": "57R1PBowXkri"
      },
      "source": [
        "stack_level_0.loc[(2, 1)]"
      ],
      "execution_count": null,
      "outputs": []
    },
    {
      "cell_type": "markdown",
      "metadata": {
        "id": "f7uGr9kkXkri"
      },
      "source": [
        "Si hacemos el stack por el nivel 1, obtenemos lo siguiente:"
      ]
    },
    {
      "cell_type": "code",
      "metadata": {
        "id": "ByAtk_b-Xkrj"
      },
      "source": [
        "crosstab.stack(level=1)"
      ],
      "execution_count": null,
      "outputs": []
    },
    {
      "cell_type": "markdown",
      "metadata": {
        "id": "OeQz0DogXkrj"
      },
      "source": [
        "¡Esto es otro nivel de manipulaciónd de DataFrames!"
      ]
    }
  ]
}