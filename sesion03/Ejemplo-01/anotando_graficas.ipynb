{
  "nbformat": 4,
  "nbformat_minor": 0,
  "metadata": {
    "kernelspec": {
      "display_name": "Python 3",
      "language": "python",
      "name": "python3"
    },
    "language_info": {
      "codemirror_mode": {
        "name": "ipython",
        "version": 3
      },
      "file_extension": ".py",
      "mimetype": "text/x-python",
      "name": "python",
      "nbconvert_exporter": "python",
      "pygments_lexer": "ipython3",
      "version": "3.8.5"
    },
    "colab": {
      "name": "anotando_graficas.ipynb",
      "provenance": [],
      "collapsed_sections": []
    }
  },
  "cells": [
    {
      "cell_type": "markdown",
      "metadata": {
        "id": "-_AixpqCVZRq"
      },
      "source": [
        "# Ejemplo 1: Anotando gráficas\n",
        "\n",
        "## 1. Objetivos:\n",
        "- Aprender a añadir títulos, anotaciones y leyendas a nuestras gráficas\n",
        "- Aprender a cambiar los tamaños de nuestras gráficas y modificar la dirección de nuestros tics\n",
        " \n",
        "---\n",
        "    \n",
        "## 2. Desarrollo:"
      ]
    },
    {
      "cell_type": "markdown",
      "metadata": {
        "id": "9LRb3JMRVZRt"
      },
      "source": [
        "Vamos a aprender a añadir anotaciones a nuestras gráficas para que sean mucho más comprensibles."
      ]
    },
    {
      "cell_type": "code",
      "metadata": {
        "id": "6rlZmWeNVZRu"
      },
      "source": [
        "import pandas as pd\n",
        "import matplotlib.pyplot as plt\n",
        "import seaborn as sns\n",
        "sns.set(style='white')"
      ],
      "execution_count": null,
      "outputs": []
    },
    {
      "cell_type": "code",
      "metadata": {
        "id": "2YsVpV0yVZRv"
      },
      "source": [
        "df = pd.read_csv('https://raw.githubusercontent.com/manu-msr/beduadp/master/Datasets/athlete_olympic_events-clean.csv')\n",
        "\n",
        "df.head()"
      ],
      "execution_count": null,
      "outputs": []
    },
    {
      "cell_type": "markdown",
      "metadata": {
        "id": "wodMiRpKVZRv"
      },
      "source": [
        "Añadir títulos y nombres para nuestros ejes es tan fácil como llamar el método `set`. Anteriormente habíamos estado llamando nuestros métodos de Seaborn sin asignar los resultados a ninguna variable. Si asignamos nuestro resultado a la variable `ax`, podemos ahora llamar el método `set` de esa variable para anotar nuestra gráfica:"
      ]
    },
    {
      "cell_type": "code",
      "metadata": {
        "id": "S6hCzHvkVZRw"
      },
      "source": [
        "ax = sns.displot(df['age'], kde=False)\n",
        "ax.set(title='Edades de atletas que participaron en los Juegos Olímpicos', xlabel='edad', ylabel='conteo');"
      ],
      "execution_count": null,
      "outputs": []
    },
    {
      "cell_type": "markdown",
      "metadata": {
        "id": "fay3hg-nVZRy"
      },
      "source": [
        "Observa que he colocado un punto y coma al final de la última línea. Esto se hace para que Jupyter Notebooks no me muestre el output de la última línea, ya que esto ensuciaría un poco mi visualización."
      ]
    },
    {
      "cell_type": "markdown",
      "metadata": {
        "id": "R4QqFbZVVZRz"
      },
      "source": [
        "En el caso de que tengamos dos o más gráficas (o categorías) al mismo tiempo, podemos añadir una leyenda a nuestra gráfica para poder diferenciar nuestros datos:"
      ]
    },
    {
      "cell_type": "code",
      "metadata": {
        "id": "UO-mN2IOVZR0"
      },
      "source": [
        "by_athlete = df.groupby(level=0)[['age', 'height', 'weight']].mean()\n",
        "sex = df.groupby(level=0)['sex'].last()\n",
        "merged = by_athlete.merge(sex, left_index=True, right_index=True)\n",
        "males = by_athlete[merged['sex'] == 'M']\n",
        "females = by_athlete[merged['sex'] == 'F']"
      ],
      "execution_count": null,
      "outputs": []
    },
    {
      "cell_type": "code",
      "metadata": {
        "id": "a95Qw72vVZR2"
      },
      "source": [
        "ax = sns.kdeplot(males['height'], label='hombres',shade=True)\n",
        "sns.kdeplot(females['height'],shade=True, ax=ax, label='mujeres')\n",
        "ax.set_title('Distribuciones de alturas de atletas masculinos y femeninos', fontsize=13, pad=15);\n",
        "ax.set(xlabel='altura');\n",
        "ax.legend(loc='upper right');"
      ],
      "execution_count": null,
      "outputs": []
    },
    {
      "cell_type": "markdown",
      "metadata": {
        "id": "XjPlGgoXVZR3"
      },
      "source": [
        "En la gráfica anterior usamos el método `set_title` en vez del genérico `set` para poder agregar el tamaño de la letra (`fontsize`) y el tamaño de la separación entre el título y la gráfica (`pad`)."
      ]
    },
    {
      "cell_type": "markdown",
      "metadata": {
        "id": "pAywuyWKVZR3"
      },
      "source": [
        "---\n",
        "\n",
        "También podemos cambiar el tamaño de nuestras gráficas. Para eso tendremos que echar mano de la biblioteca sobre la cual está construida `seaborn`: `matplotlib`. `matplotlib` es la biblioteca de visualizaciones en Python más conocida y utilizada. Algunas de las nuevas bibliotecas que son muy famosas, como `seaborn` están construidas sobre `matplotlib`. Esto quiere decir que para poder acceder a todo el poder de las visualizaciones en Python es importante saber cómo funcionan ambas.\n",
        "\n",
        "Por ahora sólo vamos a ver lo siguiente:\n",
        "\n",
        "Cada vez que creas una nueva gráfica con `seaborn`, esta gráfica está contenida dentro de algo que llamamos `figures` en `matplotlib`. Una `figure` puede contener múltiples gráficas. Cada que generas una gráfica con `seaborn`, una nueva `figure` se genera automáticamente. Podemos generar manualmente la `figure` para después utilizarla para personalizar nuestra gráfica. Para determinar el tamaño de nuestra gráfica podemos hacer lo siguiente:"
      ]
    },
    {
      "cell_type": "code",
      "metadata": {
        "id": "5czVjpG8VZR5"
      },
      "source": [
        "ax = sns.displot(df['age'], kde=False, height=8)\n",
        "ax.set(title='Edades de atletas que participaron en los Juegos Olímpicos')\n",
        "ax.set(xlabel='edad', ylabel='conteo');"
      ],
      "execution_count": null,
      "outputs": []
    },
    {
      "cell_type": "markdown",
      "metadata": {
        "id": "AK0ccgWCVZR5"
      },
      "source": [
        "A través de todo el módulo, iremos poco a poco viendo cómo modificar nuestras gráficas para que se vean bien y sean más comprensibles."
      ]
    }
  ]
}