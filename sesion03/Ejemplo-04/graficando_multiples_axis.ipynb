{
  "nbformat": 4,
  "nbformat_minor": 0,
  "metadata": {
    "kernelspec": {
      "display_name": "Python 3",
      "language": "python",
      "name": "python3"
    },
    "language_info": {
      "codemirror_mode": {
        "name": "ipython",
        "version": 3
      },
      "file_extension": ".py",
      "mimetype": "text/x-python",
      "name": "python",
      "nbconvert_exporter": "python",
      "pygments_lexer": "ipython3",
      "version": "3.8.5"
    },
    "colab": {
      "name": "graficando_multiples_axis.ipynb",
      "provenance": [],
      "collapsed_sections": []
    }
  },
  "cells": [
    {
      "cell_type": "markdown",
      "metadata": {
        "id": "YujF2wENXx-f"
      },
      "source": [
        "# Ejemplo 4: Graficando con múltiples axis\n",
        "\n",
        "## 1. Objetivos:\n",
        "- Aprender a generar varias gráficas al mismo tiempo para hacer comparaciones.\n",
        " \n",
        "---\n",
        "    \n",
        "## 2. Desarrollo:"
      ]
    },
    {
      "cell_type": "markdown",
      "metadata": {
        "id": "V6gkuZ4NXx-m"
      },
      "source": [
        "Tomemos la primera tabla de contingencia del Ejemplo pasado para graficarla:"
      ]
    },
    {
      "cell_type": "code",
      "metadata": {
        "id": "fBAD8xfMXx-n"
      },
      "source": [
        "import pandas as pd\n",
        "import matplotlib.pyplot as plt\n",
        "import seaborn as sns\n",
        "sns.set_style('whitegrid')"
      ],
      "execution_count": null,
      "outputs": []
    },
    {
      "cell_type": "code",
      "metadata": {
        "id": "4NFf6mZcXx-p"
      },
      "source": [
        "df = pd.read_json('https://raw.githubusercontent.com/manu-msr/beduadp/master/Datasets/zomato_reviews-clean.json')\n",
        "\n",
        "df.head()"
      ],
      "execution_count": null,
      "outputs": []
    },
    {
      "cell_type": "code",
      "metadata": {
        "id": "anKKtQvgXx-p"
      },
      "source": [
        "crosstab = pd.crosstab(df['price_range'], df['user_rating'])\n",
        "\n",
        "crosstab"
      ],
      "execution_count": null,
      "outputs": []
    },
    {
      "cell_type": "markdown",
      "metadata": {
        "id": "E5XtGiJhXx-q"
      },
      "source": [
        "¿Recuerdas el objeto `figure`? Bueno, si `figure` es el objeto que contiene nuestras gráficas, los objetos `axes` son los encargados de dibujar cada una de las gráficas. `figure` contiene `axes` y nuestras gráficas se dibujan sobre los `axes`.\n",
        "\n",
        "Usando el método `subplots`, podemos generar al mismo tiempo una nueva figura y múltiples `axes` que están contenidos en esa figura:"
      ]
    },
    {
      "cell_type": "code",
      "metadata": {
        "id": "8KsRMzBYXx-q"
      },
      "source": [
        "fig, axes = plt.subplots(2, 2)"
      ],
      "execution_count": null,
      "outputs": []
    },
    {
      "cell_type": "markdown",
      "metadata": {
        "id": "6TTA_0ntXx-r"
      },
      "source": [
        "Le pasamos a `subplots` la estructura de nuestra 'tabla' de gráficas. En este caso, le indicamos un entramado de 2 x 2 porque tenemos 4 valores en el primer nivel.\n",
        "\n",
        "Grafiquemos:"
      ]
    },
    {
      "cell_type": "code",
      "metadata": {
        "id": "Q3ljbMt2Xx-s"
      },
      "source": [
        "fig, axes = plt.subplots(2, 2, figsize=(10, 8), sharex=True, sharey=True)\n",
        "\n",
        "sns.barplot(x=crosstab.columns, y=crosstab.loc[1], ax=axes[0, 0])\n",
        "sns.barplot(x=crosstab.columns, y=crosstab.loc[2], ax=axes[0, 1])\n",
        "sns.barplot(x=crosstab.columns, y=crosstab.loc[3], ax=axes[1, 0])\n",
        "sns.barplot(x=crosstab.columns, y=crosstab.loc[4], ax=axes[1, 1])\n",
        "\n",
        "axes[0, 0].set(xlabel='', ylabel='', title='Rango de Precio: 1')\n",
        "axes[0, 1].set(xlabel='', ylabel='', title='Rango de Precio: 2')\n",
        "axes[1, 0].set(xlabel='', ylabel='', title='Rango de Precio: 3')\n",
        "axes[1, 1].set(xlabel='', ylabel='', title='Rango de Precio: 4')\n",
        "\n",
        "fig.suptitle('Ratings de restaurantes separados por rango de precio', fontsize=15);"
      ],
      "execution_count": null,
      "outputs": []
    },
    {
      "cell_type": "markdown",
      "metadata": {
        "id": "l4BOzGThXx-s"
      },
      "source": [
        "Cosas importantes a notar:\n",
        "\n",
        "1. Agregamos las banderas `sharex` y `sharey` porque tenemos el mismo eje x para todas nuestras gráficas y porque queremos comparar las gráficas una contra otra. Si nuestro eje y no fuera igual para todas, sería más difícil comparar usando sólo la vista.\n",
        "2. La variable `axes` contiene un arreglo de dos dimensiones con cada uno de nuestros `ax` (el contenedor de cada gráfica). Así como accedemos a cualquier arreglo de 2 dimensiones, acceder a un `ax` se lleva a cabo de esta manera: `axes[0, 1]`.\n",
        "3. Eliminamos los `xlabels` y los `ylabels` porque no son muy informativos y generan ruido visual. En cambio, cada gráfica necesita un título para saber a qué categoría del primer nivel pertenece.\n",
        "4. Agregamos un título a la `figure` (en lugar de al `ax`) usando el método `suptitle`."
      ]
    },
    {
      "cell_type": "code",
      "metadata": {
        "id": "Y6bSAjJuXx-t"
      },
      "source": [
        ""
      ],
      "execution_count": null,
      "outputs": []
    }
  ]
}