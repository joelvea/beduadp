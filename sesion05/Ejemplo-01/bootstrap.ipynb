{
  "nbformat": 4,
  "nbformat_minor": 0,
  "metadata": {
    "kernelspec": {
      "display_name": "Python 3",
      "language": "python",
      "name": "python3"
    },
    "language_info": {
      "codemirror_mode": {
        "name": "ipython",
        "version": 3
      },
      "file_extension": ".py",
      "mimetype": "text/x-python",
      "name": "python",
      "nbconvert_exporter": "python",
      "pygments_lexer": "ipython3",
      "version": "3.8.5"
    },
    "colab": {
      "name": "bootstrap.ipynb",
      "provenance": [],
      "collapsed_sections": []
    }
  },
  "cells": [
    {
      "cell_type": "markdown",
      "metadata": {
        "id": "XFumsOAwhl9p"
      },
      "source": [
        "## Ejemplo 1: Bootstrap\n",
        "\n",
        "### 1. Objetivos:\n",
        "    - Aprender el concepto de muestreo randomizado y su utilidad\n",
        "    - Aprender el algoritmo de bootstrap paso a paso\n",
        "    - Aprender a graficar distribuciones muestrales\n",
        " \n",
        "---\n",
        "    \n",
        "### 2. Desarrollo:"
      ]
    },
    {
      "cell_type": "code",
      "metadata": {
        "id": "hRjfWTvzhl9p"
      },
      "source": [
        "import pandas as pd\n",
        "import matplotlib.pyplot as plt\n",
        "import seaborn as sns"
      ],
      "execution_count": null,
      "outputs": []
    },
    {
      "cell_type": "markdown",
      "metadata": {
        "id": "v66YlINohl9q"
      },
      "source": [
        "### a) Muestreo aleatorio o randomizado\n",
        "\n",
        "Una de las maneras en las que normalmente se evitan los sesgos a la hora de tomar muestras es a través del muestreo aleatorio o randomizado. Esto significa crear una muestra a partir de una población o de otra muestra eligiendo elementos del conjunto original aleatoriamente. Cada elemento tiene las mismas posiblidades de ser elegido para la nueva muestra, a menos que haya una buena razón para hacerlo distinto.\n",
        "\n",
        "Con este procedimiento intentamos evitar el sesgo de selección."
      ]
    },
    {
      "cell_type": "code",
      "metadata": {
        "id": "P5OvzO1Zhl9q"
      },
      "source": [
        "df = pd.read_csv('https://raw.githubusercontent.com/manu-msr/beduadp/master/Datasets/diabetes-clean.csv', index_col=0)\n",
        "\n",
        "df.head()"
      ],
      "execution_count": null,
      "outputs": []
    },
    {
      "cell_type": "markdown",
      "metadata": {
        "id": "GfvuAf7Hhl9q"
      },
      "source": [
        "Por ejemplo, vamos a tomar algunas muestras de la variable 'glucose'. Un muestreo aleatorio puede tomarse sin reposición, lo cual significa que cada vez que un elemento se toma de la muestra original, no se regresa a la muestra original. Con cada muestreo entonces nuestra muestra original se hace más pequeña, lo cual en realidad cambia las probabilidades de elegir las muestras restantes:"
      ]
    },
    {
      "cell_type": "code",
      "metadata": {
        "id": "Bp5MwaGphl9q"
      },
      "source": [
        "df['glucose'].sample(n=20, replace=False)"
      ],
      "execution_count": null,
      "outputs": []
    },
    {
      "cell_type": "markdown",
      "metadata": {
        "id": "5YXb98w0hl9r"
      },
      "source": [
        "Tambíen podemos tomar elementos con reposición, donde regresamos cada elemento después de tomar la muestra. Esto quiere decir que en cada toma tenemos la misma probabilidad de elegir cualquiera de los elementos y además el remuestreo puede incluir elementos repetidos:"
      ]
    },
    {
      "cell_type": "code",
      "metadata": {
        "id": "oYP6nbRihl9r"
      },
      "source": [
        "df['glucose'].sample(frac=0.1, replace=True)"
      ],
      "execution_count": null,
      "outputs": []
    },
    {
      "cell_type": "markdown",
      "metadata": {
        "id": "atjrk8bGhl9r"
      },
      "source": [
        "### b) Bootstrap\n",
        "\n",
        "El Bootstrap nos sirve para generar lo que se llaman distribuciones muestrales de estadísticas. Esto es un histograma de una medida estadística cuantificada utilizando un gran número de remuestreos. ¿Para qué queremos hacer esto? Para calcular la incertidumbre de nuestra medida estadística. Dado que no podemos regresar a la fuente original, vamos a crear 'nuevas muestras' a partir de la que tenemos, con el fin de simular qué pasaría si regresáramos a la fuente original a tomar más muestras. El algoritmo es el siguiente:\n",
        "\n",
        "1. Toma un elemento de tu conjunto de datos de manera aleatoria con reposición.\n",
        "2. Repite el paso 1 `n` veces (entre más cerca esté `n` a la longitud total de tu muestra, más preciso tu cálculo).\n",
        "3. Toma la medida estadística que te interese de tus valores remuestreados.\n",
        "4. Repite los pasos 1 a 3 `R` veces (entre mayor sea `R`, más preciso tu cálculo).\n",
        "5. Utiliza las medidas obtenidas para:\n",
        "  a) Generar un histograma o boxplot\n",
        "  b) Calcular el error estándar\n",
        "  c) Calcular un intervalo de confianza\n",
        "  \n",
        "Nuestro cálculo va a resultar más exacto si `n` y `R` son lo más grandes posibles. Pero el boostrapping es un proceso que toma mucho tiempo y poder computacional, así que si nuestro dataset es muy grande habrá que disminuir estos valores hasta que el procedimiento completo tome una cantidad decente de tiempo.\n",
        "\n",
        "Vamos a realizar estos pasos y llevar a cabo el inciso *a* del paso 5:"
      ]
    },
    {
      "cell_type": "code",
      "metadata": {
        "id": "vSgr96kShl9r"
      },
      "source": [
        "glucose = df['glucose']\n",
        "\n",
        "means = []\n",
        "\n",
        "for i in range(100_000):\n",
        "    sample = glucose.sample(n=50, replace=True)\n",
        "    means.append(sample.mean())\n",
        "    \n",
        "serie_means = pd.Series(means)"
      ],
      "execution_count": null,
      "outputs": []
    },
    {
      "cell_type": "code",
      "metadata": {
        "id": "B2grIsFKhl9s"
      },
      "source": [
        "sns.displot(serie_means);"
      ],
      "execution_count": null,
      "outputs": []
    },
    {
      "cell_type": "markdown",
      "metadata": {
        "id": "p49yeQOShl9s"
      },
      "source": [
        "### c) Teorema del límite central\n",
        "\n",
        "Existe un teorema matemático llamado Teorema del Limíte Central que establece que las distribuciones muestrales de estadísticas van a tender hacia la normalidad. Ésta no es una regla absoluta, pero se cumple en muchos casos. En nuestro ejemplo podemos calcular qué tan cerca de la normalidad están nuestros promedios muestrales: "
      ]
    },
    {
      "cell_type": "code",
      "metadata": {
        "id": "0HnNOpoPhl9s"
      },
      "source": [
        "serie_means.skew()"
      ],
      "execution_count": null,
      "outputs": []
    },
    {
      "cell_type": "code",
      "metadata": {
        "id": "Fi87Ret0hl9s"
      },
      "source": [
        "serie_means.kurtosis()"
      ],
      "execution_count": null,
      "outputs": []
    },
    {
      "cell_type": "markdown",
      "metadata": {
        "id": "EJkweDuZhl9s"
      },
      "source": [
        "Como puedes ver, en este caso se cumple con mucha precisión. Entre más pequeñas sean nuestras remuestras, normalmente la curtosis aumenta.\n",
        "\n",
        "Vamos a preguntarnos:\n",
        "\n",
        "1. ¿Por qué creen que la curtosis aumente si nuestras remuestras son más pequeñas?\n",
        "2. ¿Por qué la teoría del límite central suele cumplirse?\n",
        "3. ¿Qué significa que la distribución muestral de una medida estadística **no** sea normal? ¿Cómo podemos interpretar ese fenómeno?"
      ]
    },
    {
      "cell_type": "code",
      "metadata": {
        "id": "6GcBQ0jthl9t"
      },
      "source": [
        ""
      ],
      "execution_count": null,
      "outputs": []
    }
  ]
}