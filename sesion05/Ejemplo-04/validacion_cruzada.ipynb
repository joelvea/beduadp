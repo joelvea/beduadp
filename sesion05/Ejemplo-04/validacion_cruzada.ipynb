{
  "nbformat": 4,
  "nbformat_minor": 0,
  "metadata": {
    "kernelspec": {
      "display_name": "Python 3",
      "language": "python",
      "name": "python3"
    },
    "language_info": {
      "codemirror_mode": {
        "name": "ipython",
        "version": 3
      },
      "file_extension": ".py",
      "mimetype": "text/x-python",
      "name": "python",
      "nbconvert_exporter": "python",
      "pygments_lexer": "ipython3",
      "version": "3.8.5"
    },
    "colab": {
      "name": "validacion_cruzada.ipynb",
      "provenance": []
    }
  },
  "cells": [
    {
      "cell_type": "markdown",
      "metadata": {
        "id": "TxjLe2hHiN8R"
      },
      "source": [
        "## Ejemplo 4: Validación cruzada\n",
        "\n",
        "### 1. Objetivos:\n",
        "    - Aplicar la validación cruzada para evaluar un modelo predictivo\n",
        " \n",
        "---\n",
        "    \n",
        "### 2. Desarrollo:"
      ]
    },
    {
      "cell_type": "code",
      "metadata": {
        "id": "UhoVmIZAiN8S"
      },
      "source": [
        "import pandas as pd\n",
        "import matplotlib.pyplot as plt\n",
        "import seaborn as sns"
      ],
      "execution_count": null,
      "outputs": []
    },
    {
      "cell_type": "code",
      "metadata": {
        "id": "xTEA40q8iN8T"
      },
      "source": [
        "df = pd.read_csv('https://raw.githubusercontent.com/manu-msr/beduadp/master/Datasets/diabetes-clean.csv', index_col=0)\n",
        "\n",
        "df.head()"
      ],
      "execution_count": null,
      "outputs": []
    },
    {
      "cell_type": "code",
      "metadata": {
        "id": "F1pUQz5QiN8X"
      },
      "source": [
        "df = df.drop(columns=['outcome'])"
      ],
      "execution_count": null,
      "outputs": []
    },
    {
      "cell_type": "code",
      "metadata": {
        "id": "9Yea4og4iN8Y"
      },
      "source": [
        "X = df[['glucose', 'skin_thickness']]\n",
        "y = df['insulin']"
      ],
      "execution_count": null,
      "outputs": []
    },
    {
      "cell_type": "markdown",
      "metadata": {
        "id": "qFalLrG9iN8Y"
      },
      "source": [
        "### Validación Cruzada de K-Iteraciones\n",
        "\n",
        "Hay muchas maneras de aplicar esta técnica. El algoritmo que vamos a aprender hoy se llama Validación Cruzada de K-Iteraciones. Consta de los siguientes pasos:\n",
        "\n",
        "1. Tomamos nuestro dataset y lo revolvemos aleatoriamente.\n",
        "\n",
        "2. Decidimos un número `K` que va a ser el número de subdivisiones en el que vamos a dividir a nuestro dataset.\n",
        "\n",
        "3. Para el primer entrenamiento, dejamos fuera la primera sección. Entrenamos usando la secciones restantes, probamos el modelo entrenado con la primera sección y evaluamos su desempeño.\n",
        "\n",
        "4. Volvemos a entrenar nuestro modelo, pero esta vez dejando fuera la segunda sección como dataset prueba. Entrenamos, probamos con la segunda sección y evaluamos el desempeño del modelo.\n",
        "\n",
        "5. Repetimos el proceso `K` veces. En cada iteración dejamos la sección siguiente como dataset de prueba.\n",
        "\n",
        "6. Tomamos todas las evaluaciones de los `K` entrenamientos (que en el caso de una Regresión Lineal Múltiple podrían ser coeficientes de determinación) y sacamos el promedio y la desviación estándar. Esto servirá como una medida del \"valor típico\" de desempeño y la incertidumbre que tiene nuestro modelo."
      ]
    },
    {
      "cell_type": "code",
      "metadata": {
        "id": "I-bcaCJFiN8Z"
      },
      "source": [
        "from sklearn.model_selection import cross_validate\n",
        "from sklearn.linear_model import LinearRegression\n",
        "\n",
        "lr = LinearRegression()"
      ],
      "execution_count": null,
      "outputs": []
    },
    {
      "cell_type": "code",
      "metadata": {
        "id": "BoI8deJuiN8a"
      },
      "source": [
        "scores = cross_validate(lr, X, y, scoring='r2')"
      ],
      "execution_count": null,
      "outputs": []
    },
    {
      "cell_type": "code",
      "metadata": {
        "id": "7_LKzGYDiN8a"
      },
      "source": [
        "scores"
      ],
      "execution_count": null,
      "outputs": []
    },
    {
      "cell_type": "markdown",
      "metadata": {
        "id": "VNc2d05DiN8b"
      },
      "source": [
        "Obtenemos la evaluación del modelo usando el promedio y la desviación estándar de los scores obtenidos:"
      ]
    },
    {
      "cell_type": "code",
      "metadata": {
        "id": "pjRwgo2WiN8b"
      },
      "source": [
        "print(f'Score del modelo: {scores[\"test_score\"].mean():.3f} +/- {scores[\"test_score\"].std():.3f}')"
      ],
      "execution_count": null,
      "outputs": []
    },
    {
      "cell_type": "code",
      "metadata": {
        "id": "h9SOgUIyiN8c"
      },
      "source": [
        ""
      ],
      "execution_count": null,
      "outputs": []
    }
  ]
}