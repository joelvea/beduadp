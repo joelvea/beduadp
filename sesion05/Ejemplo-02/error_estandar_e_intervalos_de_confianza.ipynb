{
  "nbformat": 4,
  "nbformat_minor": 0,
  "metadata": {
    "kernelspec": {
      "display_name": "Python 3",
      "language": "python",
      "name": "python3"
    },
    "language_info": {
      "codemirror_mode": {
        "name": "ipython",
        "version": 3
      },
      "file_extension": ".py",
      "mimetype": "text/x-python",
      "name": "python",
      "nbconvert_exporter": "python",
      "pygments_lexer": "ipython3",
      "version": "3.8.5"
    },
    "colab": {
      "name": "error_estandar_e_intervalos_de_confianza.ipynb",
      "provenance": []
    }
  },
  "cells": [
    {
      "cell_type": "markdown",
      "metadata": {
        "id": "lfzUVEqBh48-"
      },
      "source": [
        "## Ejemplo 2: Error estándar e intervalos de confianza\n",
        "\n",
        "### 1. Objetivos:\n",
        "    - Aprender a obtener e interpretar el error estándar y los intervalos de confianza\n",
        " \n",
        "---\n",
        "    \n",
        "### 2. Desarrollo:"
      ]
    },
    {
      "cell_type": "markdown",
      "metadata": {
        "id": "Y8qWjbKOh48_"
      },
      "source": [
        "### a) Error estándar\n",
        "\n",
        "Recordarás que la desviación estándar es una medida de dispersión de nuestros datos. Bueno, pues el error estándar es la desviación estándar de nuestra serie de medidas estadísticas:"
      ]
    },
    {
      "cell_type": "code",
      "metadata": {
        "id": "XhoAOfnMh49A"
      },
      "source": [
        "import pandas as pd\n",
        "import matplotlib.pyplot as plt\n",
        "import seaborn as sns"
      ],
      "execution_count": null,
      "outputs": []
    },
    {
      "cell_type": "code",
      "metadata": {
        "id": "VUOlTweSh49B"
      },
      "source": [
        "df = pd.read_csv('https://raw.githubusercontent.com/manu-msr/beduadp/master/Datasets/diabetes-clean.csv', index_col=0)\n",
        "\n",
        "df.head()"
      ],
      "execution_count": null,
      "outputs": []
    },
    {
      "cell_type": "code",
      "metadata": {
        "id": "eL4Wlsfxh49C"
      },
      "source": [
        "glucose = df['glucose']\n",
        "\n",
        "means = []\n",
        "\n",
        "for i in range(100_000):\n",
        "    sample = glucose.sample(n=50, replace=True)\n",
        "    means.append(sample.mean())\n",
        "    \n",
        "serie_means = pd.Series(means)"
      ],
      "execution_count": null,
      "outputs": []
    },
    {
      "cell_type": "code",
      "metadata": {
        "id": "0O6UgO3Gh49E"
      },
      "source": [
        "print(f'Error estandar: {serie_means.std()}')"
      ],
      "execution_count": null,
      "outputs": []
    },
    {
      "cell_type": "markdown",
      "metadata": {
        "id": "hJ-ajUOnh49F"
      },
      "source": [
        "Recuerda que para poder interpretar correctamente la desviación estándar tienes que saber un poco acerca del rango y distribución de tus datos:"
      ]
    },
    {
      "cell_type": "code",
      "metadata": {
        "id": "ur7UfgUdh49G"
      },
      "source": [
        "print(f'Valor mínimo: {serie_means.min()}')\n",
        "print(f'Valor máximo: {serie_means.max()}')\n",
        "print(f'Rango: {serie_means.max() - serie_means.min()}')"
      ],
      "execution_count": null,
      "outputs": []
    },
    {
      "cell_type": "code",
      "metadata": {
        "id": "gt70OwPOh49I"
      },
      "source": [
        "sns.boxplot(x=serie_means);"
      ],
      "execution_count": null,
      "outputs": []
    },
    {
      "cell_type": "markdown",
      "metadata": {
        "id": "C7oxbxv8h49J"
      },
      "source": [
        "Vamos a preguntarnos:\n",
        "\n",
        "1. ¿Cómo podemos interpretar la desviación estándar? ¿Qué implica una mayor o menor desviación estándar?\n",
        "2. ¿Por qué necesitamos saber el rango de nuestros datos para interpretar correctamente la desviación estándar?\n",
        "3. ¿En este caso específico qué significa la desviación estándar que obtuvimos?"
      ]
    },
    {
      "cell_type": "markdown",
      "metadata": {
        "id": "bpk9_fT7h49K"
      },
      "source": [
        "### b) Intervalos de confianza\n",
        "\n",
        "Los intervalos de confianza son una manera de cuantificar la incertidumbre que existe en nuestra medida estadística. Si pudiéramos regresar a nuesta fuente original a tomar más muestras, el intervalo de confianza sería el intervalo numérico en el cual podemos asegurar con cierto nivel de seguridad que caería nuestra nueva medición estadística.\n",
        "\n",
        "Para obtener un intervalo de 95% de confianza, por ejemplo, tenemos que tomar nuestro histograma, removerle 2.5% de valores al principio y al final, y obtener los nuevos valores mínimo y máximo. De esta manera el 95% de los valores originales quedan dentro de este nuevo intervalo.\n",
        "\n",
        "Podemos obtener nuestro intervalo de confianza utilizando cuantiles:"
      ]
    },
    {
      "cell_type": "code",
      "metadata": {
        "id": "5bXaHgamh49L"
      },
      "source": [
        "limite_inferior = serie_means.quantile(0.025)\n",
        "limite_superior = serie_means.quantile(0.975)"
      ],
      "execution_count": null,
      "outputs": []
    },
    {
      "cell_type": "markdown",
      "metadata": {
        "id": "s3HAYeKXh49M"
      },
      "source": [
        "Podemos escribir nuestro intervalo de confianza de dos maneras distintas:"
      ]
    },
    {
      "cell_type": "code",
      "metadata": {
        "id": "c6vkzRb0h49N"
      },
      "source": [
        "print(f'Intervalo de 95% confianza de la media: {limite_inferior} < {glucose.mean()} < {limite_superior}')"
      ],
      "execution_count": null,
      "outputs": []
    },
    {
      "cell_type": "code",
      "metadata": {
        "id": "Zbeg5nwFh49O"
      },
      "source": [
        "mean_of_intervals = ((glucose.mean() - limite_inferior) + (limite_superior - glucose.mean())) / 2\n",
        "\n",
        "print(f'Intervalo de 95% confianza de la media: {glucose.mean()} +/- {mean_of_intervals}')"
      ],
      "execution_count": null,
      "outputs": []
    },
    {
      "cell_type": "markdown",
      "metadata": {
        "id": "ACPRBcVAh49O"
      },
      "source": [
        "Podemos visualizar estos límites también:"
      ]
    },
    {
      "cell_type": "code",
      "metadata": {
        "id": "nn0blnK0h49O"
      },
      "source": [
        "sns.displot(serie_means, kde=False)\n",
        "plt.axvline(limite_inferior)\n",
        "plt.axvline(limite_superior);"
      ],
      "execution_count": null,
      "outputs": []
    },
    {
      "cell_type": "code",
      "metadata": {
        "id": "KX8pkf82h49P"
      },
      "source": [
        ""
      ],
      "execution_count": null,
      "outputs": []
    }
  ]
}