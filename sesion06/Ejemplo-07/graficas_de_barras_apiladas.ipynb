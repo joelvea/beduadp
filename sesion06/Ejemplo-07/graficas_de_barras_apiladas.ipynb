{
  "nbformat": 4,
  "nbformat_minor": 0,
  "metadata": {
    "kernelspec": {
      "display_name": "Python 3",
      "language": "python",
      "name": "python3"
    },
    "language_info": {
      "codemirror_mode": {
        "name": "ipython",
        "version": 3
      },
      "file_extension": ".py",
      "mimetype": "text/x-python",
      "name": "python",
      "nbconvert_exporter": "python",
      "pygments_lexer": "ipython3",
      "version": "3.8.5"
    },
    "colab": {
      "name": "graficas_de_barras_apiladas.ipynb",
      "provenance": []
    }
  },
  "cells": [
    {
      "cell_type": "markdown",
      "metadata": {
        "id": "LzZHyQ3pKdEm"
      },
      "source": [
        "## Ejemplo 7: Gráficas de barras apiladas\n",
        "\n",
        "### 1. Objetivos:\n",
        "- Aprender a generar e interpretar gráficas de barras apiladas\n",
        " \n",
        "---\n",
        "    \n",
        "### 2. Desarrollo:"
      ]
    },
    {
      "cell_type": "code",
      "metadata": {
        "id": "k6aAdch8KdEn"
      },
      "source": [
        "%matplotlib inline\n",
        "import pandas as pd\n",
        "import seaborn as sns\n",
        "import matplotlib.pyplot as plt"
      ],
      "execution_count": null,
      "outputs": []
    },
    {
      "cell_type": "code",
      "metadata": {
        "id": "KPE-m-GDKdEo"
      },
      "source": [
        "df = pd.read_csv('https://raw.githubusercontent.com/manu-msr/beduadp/master/Datasets/us_unemployment-oct_2012.csv', index_col=0)\n",
        "\n",
        "df.head()"
      ],
      "execution_count": null,
      "outputs": []
    },
    {
      "cell_type": "markdown",
      "metadata": {
        "id": "owJNuGXCKdEo"
      },
      "source": [
        "Por ejemplo, digamos que queremos graficar la frecuencia de los 4 deportes que analizamos anteriormente. Queremos ver cuántas veces aparece cada uno en nuestro dataset para compararlos."
      ]
    },
    {
      "cell_type": "code",
      "metadata": {
        "id": "tO7Eq2xYKdEp"
      },
      "source": [
        "df_grouped = df.groupby('name')[['sex', 'sport']].max()"
      ],
      "execution_count": null,
      "outputs": []
    },
    {
      "cell_type": "code",
      "metadata": {
        "id": "h4weHnJkKdEq"
      },
      "source": [
        "df_ball = df_grouped[df_grouped['sport'].isin(['Basketball', 'Volleyball', 'Football', 'Baseball'])]"
      ],
      "execution_count": null,
      "outputs": []
    },
    {
      "cell_type": "code",
      "metadata": {
        "id": "BUj2pajRKdEr"
      },
      "source": [
        "value_counts_all = df_ball['sport'].value_counts()\n",
        "\n",
        "value_counts_all"
      ],
      "execution_count": null,
      "outputs": []
    },
    {
      "cell_type": "code",
      "metadata": {
        "id": "HWk1FHdtKdEs"
      },
      "source": [
        "fig = plt.figure()\n",
        "ax = fig.add_subplot()\n",
        "\n",
        "sns.barplot(x=value_counts_all.index, y=value_counts_all, ax=ax, palette='Blues');\n",
        "\n",
        "ax.set_ylabel('count')\n",
        "ax.set_title('Conteo de frecuencia de 4 deportes Olímpicos', fontsize=13, pad=10);"
      ],
      "execution_count": null,
      "outputs": []
    },
    {
      "cell_type": "markdown",
      "metadata": {
        "id": "PEo901JoKdEs"
      },
      "source": [
        "¡Listo! Pero qué pasa si ahora además queremos segmentar nuestros conteos utilizando la variable 'sex'. Esto nos servirá para saber cómo es que cada género contribuye al conteo total de atletas."
      ]
    },
    {
      "cell_type": "code",
      "metadata": {
        "id": "hln7zD95KdEt"
      },
      "source": [
        "df_grouped['count'] = 1\n",
        "\n",
        "df_grouped.head()"
      ],
      "execution_count": null,
      "outputs": []
    },
    {
      "cell_type": "code",
      "metadata": {
        "id": "WiZiCQ-BKdEt"
      },
      "source": [
        "df_ball_with_count = df_grouped[df_grouped['sport'].isin(['Basketball', 'Volleyball', 'Football', 'Baseball'])]"
      ],
      "execution_count": null,
      "outputs": []
    },
    {
      "cell_type": "code",
      "metadata": {
        "id": "6vjP43xxKdEt"
      },
      "source": [
        "value_counts = df_ball_with_count.groupby(['sport', 'sex'])['count'].sum()\n",
        "\n",
        "value_counts"
      ],
      "execution_count": null,
      "outputs": []
    },
    {
      "cell_type": "code",
      "metadata": {
        "id": "sHM4b_RzKdEu"
      },
      "source": [
        "value_counts = value_counts.unstack(1)\n",
        "\n",
        "value_counts"
      ],
      "execution_count": null,
      "outputs": []
    },
    {
      "cell_type": "code",
      "metadata": {
        "id": "i4BelP46KdEu"
      },
      "source": [
        "value_counts = value_counts.fillna(0)"
      ],
      "execution_count": null,
      "outputs": []
    },
    {
      "cell_type": "code",
      "metadata": {
        "id": "9Ft1JxThKdEv"
      },
      "source": [
        "plt.style.use('seaborn')\n",
        "\n",
        "fig = plt.figure(figsize=(5, 5))\n",
        "ax = fig.add_subplot()\n",
        "\n",
        "plt1 = ax.bar(value_counts.index, value_counts['M'], label='M')\n",
        "plt2 = ax.bar(value_counts.index, value_counts['F'], bottom=value_counts['M'])\n",
        "\n",
        "ax.set_ylabel('count')\n",
        "ax.set_title('Conteo de frecuencia de 4 deportes Olímpicos', fontsize=13, pad=15);\n",
        "plt.legend((plt1[0], plt2[0]), ('Men', 'Women'));\n",
        "ax.set_ylim(0, 4500);"
      ],
      "execution_count": null,
      "outputs": []
    },
    {
      "cell_type": "markdown",
      "metadata": {
        "id": "XEEctZ7TKdEx"
      },
      "source": [
        "Con esta gráfica se vuelve muy evidente la disparidad que existe en casi todos estos deportes. Excepto por volleyball, donde la participación de hombres y mujeres es similar, en los demás deportes la participación es femenina es mucho menor o incluso nula."
      ]
    }
  ]
}