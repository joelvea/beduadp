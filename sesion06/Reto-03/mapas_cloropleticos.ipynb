{
  "nbformat": 4,
  "nbformat_minor": 0,
  "metadata": {
    "kernelspec": {
      "display_name": "Python 3",
      "language": "python",
      "name": "python3"
    },
    "language_info": {
      "codemirror_mode": {
        "name": "ipython",
        "version": 3
      },
      "file_extension": ".py",
      "mimetype": "text/x-python",
      "name": "python",
      "nbconvert_exporter": "python",
      "pygments_lexer": "ipython3",
      "version": "3.8.5"
    },
    "colab": {
      "name": "mapas_cloropleticos.ipynb",
      "provenance": []
    }
  },
  "cells": [
    {
      "cell_type": "markdown",
      "metadata": {
        "id": "MmFs46m-L_PW"
      },
      "source": [
        "## Reto 3: Mapas Cloropléticos\n",
        "\n",
        "### 1. Objetivos:\n",
        "- Aprender a generar e interpretar mapas cloropléticos\n",
        " \n",
        "---\n",
        "    \n",
        "### 2. Desarrollo:"
      ]
    },
    {
      "cell_type": "markdown",
      "metadata": {
        "id": "RguZevhrL_PZ"
      },
      "source": [
        "### a) Diferencias demográficas a través de la República Mexicana\n",
        "\n",
        "Para este Reto vamos a generar un mapa cloroplético que muestre visualmente las diferencias de cantidad de población en los Estados de la República Mexicana. Utilizaremos la librería `folium` para lograr esto.\n",
        "\n",
        "En nuestra carpeta de Datasets se encuentran los dos archivos que vamos a necesitar para generar este mapa. Nuestro archivo GeoJSON se llama 'mexico.json' y el dataset con los datos de población por Estado se llama 'poblacion_mexico_2010.csv'.\n",
        "\n",
        "En caso de que tengas dudas, puedes revisar [la documentación de Folium](https://python-visualization.github.io/folium/quickstart.html).\n",
        "\n",
        "> Reto extra: Si quieres un Reto extra, puedes intentar agregar popups para que cuando el usuario coloque el puntero sobre un Estado pueda visualizar el valor numérico que representa la población en dicho Estado. Puedes seguir [este tutorial](https://vverde.github.io/blob/interactivechoropleth.html) para lograrlo (el tutorial está en inglés).\n",
        "\n",
        "**Archivos:**\n",
        "\n",
        "- https://raw.githubusercontent.com/manu-msr/beduadp/master/Datasets/mexico.json\n",
        "- https://raw.githubusercontent.com/manu-msr/beduadp/master/Datasets/poblacion_mexico_2010.csv"
      ]
    },
    {
      "cell_type": "code",
      "metadata": {
        "id": "15h38pH-MmH4"
      },
      "source": [
        ""
      ],
      "execution_count": null,
      "outputs": []
    }
  ]
}