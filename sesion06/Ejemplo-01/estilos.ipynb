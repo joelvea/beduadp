{
  "nbformat": 4,
  "nbformat_minor": 0,
  "metadata": {
    "kernelspec": {
      "display_name": "Python 3",
      "language": "python",
      "name": "python3"
    },
    "language_info": {
      "codemirror_mode": {
        "name": "ipython",
        "version": 3
      },
      "file_extension": ".py",
      "mimetype": "text/x-python",
      "name": "python",
      "nbconvert_exporter": "python",
      "pygments_lexer": "ipython3",
      "version": "3.8.5"
    },
    "colab": {
      "name": "estilos.ipynb",
      "provenance": [],
      "collapsed_sections": []
    }
  },
  "cells": [
    {
      "cell_type": "markdown",
      "metadata": {
        "id": "wU9Kk_gBDcQo"
      },
      "source": [
        "## Ejemplo 1: Estilos\n",
        "\n",
        "### 1. Objetivos:\n",
        "\n",
        "- Aprender a aplicar estilos predefinidos de matplotlib y seaborn\n",
        " \n",
        "---\n",
        "    \n",
        "### 2. Desarrollo:"
      ]
    },
    {
      "cell_type": "code",
      "metadata": {
        "id": "j0Gd41ysDcQt"
      },
      "source": [
        "# para que las gráficas se incluyan en la página y no en ventanas emergentes.\n",
        "%matplotlib inline\n",
        "import pandas as pd\n",
        "import seaborn as sns\n",
        "import matplotlib.pyplot as plt"
      ],
      "execution_count": null,
      "outputs": []
    },
    {
      "cell_type": "code",
      "metadata": {
        "id": "HSwr0DdvDcQv"
      },
      "source": [
        "df = pd.read_csv('https://raw.githubusercontent.com/manu-msr/beduadp/master/Datasets/melbourne_housing-clean.csv', index_col=0)\n",
        "\n",
        "df.head()"
      ],
      "execution_count": null,
      "outputs": []
    },
    {
      "cell_type": "markdown",
      "metadata": {
        "id": "oKXLnWnfDcQy"
      },
      "source": [
        "Vamos a crear un histograma con los estilos default:"
      ]
    },
    {
      "cell_type": "code",
      "metadata": {
        "id": "u-jI3Tc-DcQz"
      },
      "source": [
        "sns.histplot(df['price']);"
      ],
      "execution_count": null,
      "outputs": []
    },
    {
      "cell_type": "markdown",
      "metadata": {
        "id": "NH7vAJArDcQ1"
      },
      "source": [
        "Seaborn y matplotib incluyen algunos estilos predefinidos que podemos usar para cambiar el estilo visual de nuestras gráficas:"
      ]
    },
    {
      "cell_type": "code",
      "metadata": {
        "id": "KCuRj1XtDcQ2"
      },
      "source": [
        "sns.set_style('white')\n",
        "\n",
        "sns.histplot(df['price']);"
      ],
      "execution_count": null,
      "outputs": []
    },
    {
      "cell_type": "code",
      "metadata": {
        "id": "2xQeanx6DcQ4"
      },
      "source": [
        "sns.set_style('whitegrid')\n",
        "\n",
        "sns.histplot(df['price']);"
      ],
      "execution_count": null,
      "outputs": []
    },
    {
      "cell_type": "code",
      "metadata": {
        "id": "HWuj4hbvDcQ6"
      },
      "source": [
        "sns.set_style('darkgrid')\n",
        "\n",
        "sns.histplot(df['price']);"
      ],
      "execution_count": null,
      "outputs": []
    },
    {
      "cell_type": "code",
      "metadata": {
        "id": "IGHNCos4DcQ8"
      },
      "source": [
        "plt.style.use('fivethirtyeight')\n",
        "\n",
        "sns.histplot(df['price']);"
      ],
      "execution_count": null,
      "outputs": []
    },
    {
      "cell_type": "code",
      "metadata": {
        "id": "FWXfeSM-DcQ9"
      },
      "source": [
        "plt.style.use('ggplot')\n",
        "\n",
        "sns.displot(df['price']);"
      ],
      "execution_count": null,
      "outputs": []
    },
    {
      "cell_type": "code",
      "metadata": {
        "id": "TP5NGoDkDcQ-"
      },
      "source": [
        "plt.style.use('classic')\n",
        "\n",
        "sns.histplot(df['price']);"
      ],
      "execution_count": null,
      "outputs": []
    },
    {
      "cell_type": "markdown",
      "metadata": {
        "id": "f6wgtWLpDcQ_"
      },
      "source": [
        "También podemos usar estilos de manera 'temporal'. Esto quiere decir que el estilo sólo aplica a las gráficas que realicemos dentro de la sentencia `with`:"
      ]
    },
    {
      "cell_type": "code",
      "metadata": {
        "id": "DrrH8AsYDcRA"
      },
      "source": [
        "plt.style.use('default')\n",
        "\n",
        "with sns.axes_style('ticks'):\n",
        "    sns.histplot(df['price']);"
      ],
      "execution_count": null,
      "outputs": []
    },
    {
      "cell_type": "code",
      "metadata": {
        "id": "y8bB6nvMDcRA"
      },
      "source": [
        "with plt.style.context('seaborn-bright'):\n",
        "    sns.histplot(df['price']);"
      ],
      "execution_count": null,
      "outputs": []
    },
    {
      "cell_type": "markdown",
      "metadata": {
        "id": "egRu8UwPDcRB"
      },
      "source": [
        "Hay veces que tenemos que modificar nuestros estilos manualmente para obtener algo altamente personalizado, pero vale la pena echarle un ojo a los estilos predefinidos. A veces pueden ser justo lo que necesitas. Puedes encontrar listas completas de estilos [aquí para Seaborn](https://seaborn.pydata.org/tutorial/aesthetics.html) y [aquí para Matpotlib](https://matplotlib.org/3.2.1/gallery/style_sheets/style_sheets_reference.html)."
      ]
    }
  ]
}