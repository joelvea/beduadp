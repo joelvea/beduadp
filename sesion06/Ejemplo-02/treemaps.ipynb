{
  "nbformat": 4,
  "nbformat_minor": 0,
  "metadata": {
    "kernelspec": {
      "display_name": "Python 3",
      "language": "python",
      "name": "python3"
    },
    "language_info": {
      "codemirror_mode": {
        "name": "ipython",
        "version": 3
      },
      "file_extension": ".py",
      "mimetype": "text/x-python",
      "name": "python",
      "nbconvert_exporter": "python",
      "pygments_lexer": "ipython3",
      "version": "3.8.5"
    },
    "colab": {
      "name": "treemaps.ipynb",
      "provenance": []
    }
  },
  "cells": [
    {
      "cell_type": "markdown",
      "metadata": {
        "id": "QVgAaL2HEBPt"
      },
      "source": [
        "## Ejemplo 2: Treemaps\n",
        "\n",
        "### 1. Objetivos:\n",
        "\n",
        "- Aprender a generar e interpretar treemaps\n",
        " \n",
        "---\n",
        "    \n",
        "### 2. Desarrollo:"
      ]
    },
    {
      "cell_type": "code",
      "metadata": {
        "id": "smz6lrDxE0KW"
      },
      "source": [
        "!pip install plotly --upgrade"
      ],
      "execution_count": null,
      "outputs": []
    },
    {
      "cell_type": "code",
      "metadata": {
        "id": "eyO0qhWIEBPv"
      },
      "source": [
        "import plotly.express as px\n",
        "import pandas as pd"
      ],
      "execution_count": null,
      "outputs": []
    },
    {
      "cell_type": "markdown",
      "metadata": {
        "id": "cl2kJ7VdEBPx"
      },
      "source": [
        "Existen dos maneras  de generar treemaps. La primera solamente es una manera de visualizar una jerarquía. Usando `plotly.express` podemos visualizar jerarquías tipo estructura de árbol.\n",
        "\n",
        "Por ejemplo, tenemos esta estructura:"
      ]
    },
    {
      "cell_type": "markdown",
      "metadata": {
        "id": "iMvZ8aK5EUuS"
      },
      "source": [
        "![imagen](https://github.com/manu-msr/beduadp/blob/master/sesion06/Imgs/sesion_6-7.png?raw=true)"
      ]
    },
    {
      "cell_type": "markdown",
      "metadata": {
        "id": "sosyH-51EBPz"
      },
      "source": [
        "Podemos crear un treemap para visualizarla de otra manera que resulte más clara:"
      ]
    },
    {
      "cell_type": "code",
      "metadata": {
        "id": "S62y4JYKEBP1"
      },
      "source": [
        "fig = px.treemap(\n",
        "    names=['A', 'B', 'C', 'D', 'E', 'a', 'b', 'c', 'd', 'x', 'y', 'z'],\n",
        "    parents=['', '', '', '', '', 'A', 'B', 'B', 'E', 'b', 'a', 'd']\n",
        ")\n",
        "\n",
        "fig.show()"
      ],
      "execution_count": null,
      "outputs": []
    },
    {
      "cell_type": "markdown",
      "metadata": {
        "id": "of46fkOhEBP2"
      },
      "source": [
        "La segunda manera de utilizar un treemap consiste en modificar el tamaño de los rectángulos proporcionalmente al tamaño de una variable numérica. Por ejemplo:"
      ]
    },
    {
      "cell_type": "code",
      "metadata": {
        "id": "DpdEy6yHEBP3"
      },
      "source": [
        "df = pd.read_csv('https://raw.githubusercontent.com/manu-msr/beduadp/master/Datasets/athlete_olympic_events-clean.csv', index_col=0)\n",
        "\n",
        "df.head()"
      ],
      "execution_count": null,
      "outputs": []
    },
    {
      "cell_type": "code",
      "metadata": {
        "id": "rD32W6EWEBP4"
      },
      "source": [
        "df_grouped = df.groupby('name')[['sex', 'sport']].max()\n",
        "\n",
        "df_grouped.head()"
      ],
      "execution_count": null,
      "outputs": []
    },
    {
      "cell_type": "code",
      "metadata": {
        "id": "VPOpHgWDEBP5"
      },
      "source": [
        "df_grouped['count'] = 1"
      ],
      "execution_count": null,
      "outputs": []
    },
    {
      "cell_type": "code",
      "metadata": {
        "id": "-Y7GOmsHEBP5"
      },
      "source": [
        "fig = px.treemap(df_grouped, path=['sport', 'sex'], values='count')\n",
        "\n",
        "fig.show()"
      ],
      "execution_count": null,
      "outputs": []
    },
    {
      "cell_type": "code",
      "metadata": {
        "id": "qDQ3P9VCEBP5"
      },
      "source": [
        "df_grouped_2 = df.groupby('name')[['team', 'sport']].max()\n",
        "\n",
        "df_grouped_2.head()"
      ],
      "execution_count": null,
      "outputs": []
    },
    {
      "cell_type": "code",
      "metadata": {
        "id": "zCfjfSwVEBP6"
      },
      "source": [
        "df_grouped_2['count'] = 1"
      ],
      "execution_count": null,
      "outputs": []
    },
    {
      "cell_type": "code",
      "metadata": {
        "id": "Cz1lzX1QEBP6"
      },
      "source": [
        "top_5_sports = df_grouped_2['sport'].value_counts().head(5)"
      ],
      "execution_count": null,
      "outputs": []
    },
    {
      "cell_type": "code",
      "metadata": {
        "id": "XdG0jlCmEBP7"
      },
      "source": [
        "top_5_df = df_grouped_2[df_grouped_2['sport'].isin(top_5_sports.index)]"
      ],
      "execution_count": null,
      "outputs": []
    },
    {
      "cell_type": "code",
      "metadata": {
        "id": "TaurP7E5EBP7"
      },
      "source": [
        "fig = px.treemap(top_5_df, path=['team', 'sport'], values='count')\n",
        "\n",
        "fig.show()"
      ],
      "execution_count": null,
      "outputs": []
    },
    {
      "cell_type": "markdown",
      "metadata": {
        "id": "V_GNgq_FEBP8"
      },
      "source": [
        "Algo que es genial de plotly es que hace gráficas interactivas. Dale click a una de las 'hojas' para ver más detalles."
      ]
    }
  ]
}