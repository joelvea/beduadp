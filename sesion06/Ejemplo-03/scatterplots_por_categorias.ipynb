{
  "nbformat": 4,
  "nbformat_minor": 0,
  "metadata": {
    "kernelspec": {
      "display_name": "Python 3",
      "language": "python",
      "name": "python3"
    },
    "language_info": {
      "codemirror_mode": {
        "name": "ipython",
        "version": 3
      },
      "file_extension": ".py",
      "mimetype": "text/x-python",
      "name": "python",
      "nbconvert_exporter": "python",
      "pygments_lexer": "ipython3",
      "version": "3.8.5"
    },
    "colab": {
      "name": "scatterplots_por_categorias.ipynb",
      "provenance": []
    }
  },
  "cells": [
    {
      "cell_type": "markdown",
      "metadata": {
        "id": "dHpve2hgF8oq"
      },
      "source": [
        "## Ejemplo 3: Scatterplots por categorías\n",
        "\n",
        "### 1. Objetivos:\n",
        "- Aprender a generar e interpretar scatterplots por categorías\n",
        " \n",
        "---\n",
        "    \n",
        "### 2. Desarrollo:"
      ]
    },
    {
      "cell_type": "code",
      "metadata": {
        "id": "0Qj2mrQHF8os"
      },
      "source": [
        "import pandas as pd\n",
        "import seaborn as sns\n",
        "import matplotlib.pyplot as plt"
      ],
      "execution_count": null,
      "outputs": []
    },
    {
      "cell_type": "code",
      "metadata": {
        "id": "3EH6lQ0vF8ot"
      },
      "source": [
        "df = pd.read_csv('https://raw.githubusercontent.com/manu-msr/beduadp/master/Datasets/athlete_olympic_events-clean.csv', index_col=0)\n",
        "\n",
        "df.head()"
      ],
      "execution_count": null,
      "outputs": []
    },
    {
      "cell_type": "code",
      "metadata": {
        "id": "PgOb20IFF8ou"
      },
      "source": [
        "df_grouped = df.groupby('name')[['height', 'weight', 'sex', 'team', 'sport']].max()"
      ],
      "execution_count": null,
      "outputs": []
    },
    {
      "cell_type": "code",
      "metadata": {
        "id": "8whZ313KF8ow"
      },
      "source": [
        "china = df_grouped[df_grouped['team'] == 'China']"
      ],
      "execution_count": null,
      "outputs": []
    },
    {
      "cell_type": "markdown",
      "metadata": {
        "id": "ruelnAPYF8ox"
      },
      "source": [
        "He aquí una gráfica de dispersión para observar la relación entre las variables 'weight' y 'height' de los atletas chinos que han participado en Olimpiadas:"
      ]
    },
    {
      "cell_type": "code",
      "metadata": {
        "id": "FaJtFJrOF8ox"
      },
      "source": [
        "sns.scatterplot(x=china['height'],y=china['weight']);"
      ],
      "execution_count": null,
      "outputs": []
    },
    {
      "cell_type": "markdown",
      "metadata": {
        "id": "SpcLbVqPF8ox"
      },
      "source": [
        "Si queremos hacer una visualización comparativa entre los atletas hombres y mujeres de nuestro dataset de China, podemos entonces colorear nuestros puntos de acuerdo a la variable 'sex':"
      ]
    },
    {
      "cell_type": "code",
      "metadata": {
        "id": "vNxDPWUqF8oy"
      },
      "source": [
        "sns.scatterplot(x=china['height'],y=china['weight'], hue=china['sex']);"
      ],
      "execution_count": null,
      "outputs": []
    },
    {
      "cell_type": "markdown",
      "metadata": {
        "id": "DrwnrJq_F8oy"
      },
      "source": [
        "Podemos hacer la diferencia aún más marcada si cambiamos la forma de los puntos de una de las dos categorías:"
      ]
    },
    {
      "cell_type": "code",
      "metadata": {
        "id": "FHM1ru3AF8oy"
      },
      "source": [
        "sns.scatterplot(x=china['height'],y=china['weight'], hue=china['sex'], style=china['sex']);"
      ],
      "execution_count": null,
      "outputs": []
    },
    {
      "cell_type": "markdown",
      "metadata": {
        "id": "1m8JBDcsF8oy"
      },
      "source": [
        "Esta gráfica nos hace ver con mucha claridad que sí hay una diferencia cuantificable entre los pesos y alturas de atletas masculinos y femeninos. También genera preguntas interesantes. Por ejemplo: ¿qué deporte realizan las atletas mujeres que tienen pesos cercanos al peso máximo?"
      ]
    },
    {
      "cell_type": "code",
      "metadata": {
        "id": "RZDFlx1CF8oz"
      },
      "source": [
        "china[(china['sex'] == 'F') & (china['weight'] > 120)]"
      ],
      "execution_count": null,
      "outputs": []
    },
    {
      "cell_type": "markdown",
      "metadata": {
        "id": "J9uCn-_gF8oz"
      },
      "source": [
        "¡Como era de esperarse, los pesos pesados entre las atletas mujeres de China hacen practican alterofilia y judo!"
      ]
    },
    {
      "cell_type": "code",
      "metadata": {
        "id": "Gg6HmRH6F8oz"
      },
      "source": [
        ""
      ],
      "execution_count": null,
      "outputs": []
    }
  ]
}