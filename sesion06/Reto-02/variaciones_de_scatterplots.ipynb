{
  "nbformat": 4,
  "nbformat_minor": 0,
  "metadata": {
    "kernelspec": {
      "display_name": "Python 3",
      "language": "python",
      "name": "python3"
    },
    "language_info": {
      "codemirror_mode": {
        "name": "ipython",
        "version": 3
      },
      "file_extension": ".py",
      "mimetype": "text/x-python",
      "name": "python",
      "nbconvert_exporter": "python",
      "pygments_lexer": "ipython3",
      "version": "3.8.5"
    },
    "colab": {
      "name": "variaciones_de_scatterplots.ipynb",
      "provenance": []
    }
  },
  "cells": [
    {
      "cell_type": "markdown",
      "metadata": {
        "id": "PeFrgvxHLohB"
      },
      "source": [
        "## Reto 2: Variaciones de scatterplots\n",
        "\n",
        "### 1. Objetivos:\n",
        "- Aprender a generar e interpretar un par de variantes de las gráficas de dispersión\n",
        " \n",
        "---\n",
        "    \n",
        "### 2. Desarrollo:"
      ]
    },
    {
      "cell_type": "markdown",
      "metadata": {
        "id": "FQQIdOkfLohD"
      },
      "source": [
        "### a) Explorando determinantes de calidad en vinos rojos\n",
        "\n",
        "Vamos a utilizar el dataset `wine_quality_red-clean.csv` para ver si podemos descubrir algunas de las características que hacen que un vino tenga más o menos calidad.\n",
        "\n",
        "Cada fila en el dataset contiene información acerca de un tipo de vino y una clasificación de calidad ('quality'). Queremos explorar un poco las relaciones entre las variables independientes para ver si hay alguna relación que explique un poco la diferencia de calidad.\n",
        "\n",
        "Tu Reto consiste en lo siguiente:\n",
        "\n",
        "1. Elige un par de variables independientes que creas que podrían explicar la calidad de un vino.\n",
        "2. Genera un scatterplot por categorías utilizando las dos variables que elegiste y la variable 'quality' para determinar el color de tus puntos. Asegúrate de que tu gráfica tenga el título y nombres de ejes adecuados. Elige también una paleta de colores que te sean agradables.\n",
        "3. Utilizando esta gráfica, evalúa si crees que la relación entre estas dos variables explica aunque sea moderamente la diferencia de calidad en los vinos. Si no crees que las variables expliquen la calidad en lo más mínimo, repite los pasos 1 y 2 usando un par distinto de variables.\n",
        "4. Una vez que encuentres un par de variables que expliquen moderadamente la calidad del vino (remarco la palabra 'moderadamente'), genera una serie de scatterplots con variable condicionante para explorar más a detalle la relación. Realiza una gráfica por cada puntaje de calidad. Asegúrate de que cada gráfica tenga el nombre adecuado y de que todo el conjunto sea agradable a la vista y fácil de interpretar.\n",
        "5. Comenta con tus compañeros y la experta tus hallazgos.\n",
        "\n",
        "**Dataset:** https://raw.githubusercontent.com/manu-msr/beduadp/master/Datasets/wine_quality_red-clean.csv"
      ]
    },
    {
      "cell_type": "code",
      "metadata": {
        "id": "NhPWD57ZLohF"
      },
      "source": [
        ""
      ],
      "execution_count": null,
      "outputs": []
    }
  ]
}