{
  "nbformat": 4,
  "nbformat_minor": 0,
  "metadata": {
    "kernelspec": {
      "display_name": "Python 3",
      "language": "python",
      "name": "python3"
    },
    "language_info": {
      "codemirror_mode": {
        "name": "ipython",
        "version": 3
      },
      "file_extension": ".py",
      "mimetype": "text/x-python",
      "name": "python",
      "nbconvert_exporter": "python",
      "pygments_lexer": "ipython3",
      "version": "3.8.5"
    },
    "colab": {
      "name": "nltk_freq_dist.ipynb",
      "provenance": []
    }
  },
  "cells": [
    {
      "cell_type": "markdown",
      "metadata": {
        "id": "l6s4oobBdhha"
      },
      "source": [
        "## Ejemplo 4: Nltk FreqDist\n",
        "\n",
        "### 1. Objetivos:\n",
        "    - Aprender a usar el objeto FreqDist de la librería Nltk\n",
        " \n",
        "---\n",
        "    \n",
        "### 2. Desarrollo:"
      ]
    },
    {
      "cell_type": "markdown",
      "metadata": {
        "id": "rRWxbe6rdhhb"
      },
      "source": [
        "Ahora vamos a explorar el objeto `FreqDist` que nos facilita el conteo de frecuencias de las palabras en nuestro conjunto de datos. La primera parte del procesamiento es idéntico a la vez pasada."
      ]
    },
    {
      "cell_type": "code",
      "metadata": {
        "id": "F_Q4mHhidhhc"
      },
      "source": [
        "import pandas as pd\n",
        "import nltk\n",
        "import seaborn as sns\n",
        "import matplotlib.pyplot as plt\n",
        "import numpy as np"
      ],
      "execution_count": null,
      "outputs": []
    },
    {
      "cell_type": "code",
      "metadata": {
        "id": "fkuPeUm6dhhc"
      },
      "source": [
        "df = pd.read_json('https://raw.githubusercontent.com/manu-msr/beduadp/master/Datasets/new_york_times_bestsellers-clean.json')\n",
        "\n",
        "df.head()"
      ],
      "execution_count": null,
      "outputs": []
    },
    {
      "cell_type": "code",
      "metadata": {
        "id": "VERCHksRdhhd"
      },
      "source": [
        "grouped_by_title = df.groupby('title')['description'].max()\n",
        "\n",
        "grouped_by_title"
      ],
      "execution_count": null,
      "outputs": []
    },
    {
      "cell_type": "markdown",
      "metadata": {
        "id": "CelIEA_Wdhhe"
      },
      "source": [
        "Primero hay que limpiar un poco nuestros textos:"
      ]
    },
    {
      "cell_type": "code",
      "metadata": {
        "id": "L0zhIlRPdhhe"
      },
      "source": [
        "grouped_by_title = grouped_by_title.str.lower()\n",
        "grouped_by_title = grouped_by_title.str.strip()\n",
        "grouped_by_title = grouped_by_title.str.replace('[^\\w\\s]', '')\n",
        "grouped_by_title = grouped_by_title.str.replace('\\d', '')\n",
        "grouped_by_title = grouped_by_title.str.replace('\\\\n', '')\n",
        "grouped_by_title = grouped_by_title.dropna()\n",
        "\n",
        "grouped_by_title"
      ],
      "execution_count": null,
      "outputs": []
    },
    {
      "cell_type": "code",
      "metadata": {
        "id": "XuHZ59c7dhhf"
      },
      "source": [
        "# Separamos cada oración en palabras\n",
        "\n",
        "tokenized = grouped_by_title.apply(nltk.word_tokenize)"
      ],
      "execution_count": null,
      "outputs": []
    },
    {
      "cell_type": "code",
      "metadata": {
        "id": "NcgwfBTwdhhg"
      },
      "source": [
        "tokenized"
      ],
      "execution_count": null,
      "outputs": []
    },
    {
      "cell_type": "code",
      "metadata": {
        "id": "gZgVxjUfdhhg"
      },
      "source": [
        "all_words = tokenized.sum()"
      ],
      "execution_count": null,
      "outputs": []
    },
    {
      "cell_type": "code",
      "metadata": {
        "id": "b3O-TZbTdhhh"
      },
      "source": [
        "# Utilizamos FreqDist para analizar la distribución de frecuencia de nuestras palabras\n",
        "\n",
        "freq_dist = nltk.FreqDist(all_words)\n",
        "\n",
        "print(freq_dist)"
      ],
      "execution_count": null,
      "outputs": []
    },
    {
      "cell_type": "code",
      "metadata": {
        "id": "8cY0gO96dhhh"
      },
      "source": [
        "freq_dist.most_common(50)"
      ],
      "execution_count": null,
      "outputs": []
    },
    {
      "cell_type": "markdown",
      "metadata": {
        "id": "DAGurGaKdhhi"
      },
      "source": [
        "Vamos a eliminar las 'palabras vacías' o 'stop words'\n",
        "\n",
        "Para hacer esto tienes que correr primero el siguiente comando:\n",
        "\n",
        "`nltk.download('stopwords')`"
      ]
    },
    {
      "cell_type": "code",
      "metadata": {
        "id": "uPTYLpDmdhhi"
      },
      "source": [
        "from nltk.corpus import stopwords"
      ],
      "execution_count": null,
      "outputs": []
    },
    {
      "cell_type": "code",
      "metadata": {
        "id": "_8SBbzFodhhi"
      },
      "source": [
        "english_stop_words = stopwords.words('english')\n",
        "\n",
        "all_words_except_stop_words = [word for word in all_words if word not in english_stop_words]\n",
        "\n",
        "freq_dist_no_stop_words = nltk.FreqDist(all_words_except_stop_words)"
      ],
      "execution_count": null,
      "outputs": []
    },
    {
      "cell_type": "code",
      "metadata": {
        "id": "bJzH8rCudhhj"
      },
      "source": [
        "freq_dist_no_stop_words.most_common(50)"
      ],
      "execution_count": null,
      "outputs": []
    },
    {
      "cell_type": "code",
      "metadata": {
        "id": "1HjE9a4Ndhhj"
      },
      "source": [
        "# Conteo de una palabra y porcentaje de aparición\n",
        "\n",
        "print(f'{(100 * freq_dist_no_stop_words[\"woman\"] / len(all_words_except_stop_words)):.3f}%')"
      ],
      "execution_count": null,
      "outputs": []
    },
    {
      "cell_type": "code",
      "metadata": {
        "id": "MEjNdj8rdhhk"
      },
      "source": [
        "# Veamos qué proporción del text está siendo ocupada por las 50 palabras más comunes\n",
        "\n",
        "freq_dist_no_stop_words.plot(50, cumulative=True);"
      ],
      "execution_count": null,
      "outputs": []
    },
    {
      "cell_type": "code",
      "metadata": {
        "id": "Wd6Ftl1Cdhhl"
      },
      "source": [
        "# Palabras que sólo aparecen una sola vez\n",
        "\n",
        "freq_dist_no_stop_words.hapaxes()[:20]"
      ],
      "execution_count": null,
      "outputs": []
    },
    {
      "cell_type": "code",
      "metadata": {
        "id": "pkDAlWpmdhhl"
      },
      "source": [
        "# Palabras largas\n",
        "\n",
        "unique = set(all_words_except_stop_words)\n",
        "unique_series = pd.Series(list(unique))\n",
        "\n",
        "unique_series"
      ],
      "execution_count": null,
      "outputs": []
    },
    {
      "cell_type": "code",
      "metadata": {
        "id": "2TzBoz7odhhm"
      },
      "source": [
        "unique_series[unique_series.str.len() > 15]"
      ],
      "execution_count": null,
      "outputs": []
    },
    {
      "cell_type": "code",
      "metadata": {
        "id": "mKD7SV0zdhhm"
      },
      "source": [
        "# Palabras largas que son frecuentes\n",
        "\n",
        "larger_than_10 = unique_series.str.len() > 7\n",
        "is_frequent = unique_series.apply(lambda x: freq_dist_no_stop_words[x] > 7)\n",
        "\n",
        "unique_series[larger_than_10 & is_frequent]"
      ],
      "execution_count": null,
      "outputs": []
    },
    {
      "cell_type": "code",
      "metadata": {
        "id": "pWKB6Ihzdhhn"
      },
      "source": [
        "# Podemos contar otras cosas, como la frecuencia de longitudes de nuestras palabras\n",
        "\n",
        "freq_dist_lengths = nltk.FreqDist([len(w) for w in all_words_except_stop_words])"
      ],
      "execution_count": null,
      "outputs": []
    },
    {
      "cell_type": "code",
      "metadata": {
        "id": "yMfXQLCGdhhn"
      },
      "source": [
        "freq_dist_lengths.most_common()"
      ],
      "execution_count": null,
      "outputs": []
    },
    {
      "cell_type": "code",
      "metadata": {
        "id": "NNW_g2mrdhho"
      },
      "source": [
        "freq_dist_lengths.max()"
      ],
      "execution_count": null,
      "outputs": []
    },
    {
      "cell_type": "code",
      "metadata": {
        "id": "r491ggE8dhho"
      },
      "source": [
        "freq_dist_lengths[5]"
      ],
      "execution_count": null,
      "outputs": []
    },
    {
      "cell_type": "code",
      "metadata": {
        "id": "IVzl27bEdhho"
      },
      "source": [
        "# También podemos saber qué proporción del total de palabras tiene longitud de 5\n",
        "\n",
        "freq_dist_lengths.freq(5)"
      ],
      "execution_count": null,
      "outputs": []
    },
    {
      "cell_type": "code",
      "metadata": {
        "id": "KkMpdEbtdhhp"
      },
      "source": [
        ""
      ],
      "execution_count": null,
      "outputs": []
    }
  ]
}