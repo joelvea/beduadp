{
  "nbformat": 4,
  "nbformat_minor": 0,
  "metadata": {
    "kernelspec": {
      "display_name": "Python 3",
      "language": "python",
      "name": "python3"
    },
    "language_info": {
      "codemirror_mode": {
        "name": "ipython",
        "version": 3
      },
      "file_extension": ".py",
      "mimetype": "text/x-python",
      "name": "python",
      "nbconvert_exporter": "python",
      "pygments_lexer": "ipython3",
      "version": "3.8.5"
    },
    "colab": {
      "name": "regex.ipynb",
      "provenance": []
    }
  },
  "cells": [
    {
      "cell_type": "markdown",
      "metadata": {
        "id": "-JnBUQbAbmhK"
      },
      "source": [
        "## Ejemplo 2: Regex\n",
        "\n",
        "### 1. Objetivos:\n",
        "    - Repasar algunas reglas básicas de las Expresiones Regulares y su aplicación usando pandas\n",
        " \n",
        "---\n",
        "    \n",
        "### 2. Desarrollo:"
      ]
    },
    {
      "cell_type": "markdown",
      "metadata": {
        "id": "LmnGBDlwbmhQ"
      },
      "source": [
        "Ya conoces seguramente las Expresiones Regulares. Las expresiones regulares o regex son secuencias de caracteres que definen un patrón de búsqueda. Son una manera de describirle a nuestros programas qué patrones estamos buscando en nuestros datos.\n",
        "\n",
        "Las expresiones regulares resultan sumamente útiles para trabajar con lenguaje natural. Vamos a repasar algunas de las reglas de las regex y a aprender a aplicarlas usando pandas.\n",
        "\n",
        "Para esto utilizaremos el dataset 'new_york_times_bestsellers-clean.json' que contiene datos acerca de libros que han sido seleccionados como bestsellers del New York Times."
      ]
    },
    {
      "cell_type": "code",
      "metadata": {
        "id": "_okm7saUbmhU"
      },
      "source": [
        "import pandas as pd"
      ],
      "execution_count": null,
      "outputs": []
    },
    {
      "cell_type": "code",
      "metadata": {
        "id": "lqJNDyK3bmhX"
      },
      "source": [
        "df = pd.read_json('https://raw.githubusercontent.com/manu-msr/beduadp/master/Datasets/new_york_times_bestsellers-clean.json')\n",
        "\n",
        "df.head()"
      ],
      "execution_count": null,
      "outputs": []
    },
    {
      "cell_type": "code",
      "metadata": {
        "id": "ABm1PgfUbmha"
      },
      "source": [
        "grouped_by_title = df.groupby('title')['description'].max()\n",
        "\n",
        "grouped_by_title"
      ],
      "execution_count": null,
      "outputs": []
    },
    {
      "cell_type": "markdown",
      "metadata": {
        "id": "WfxSVpBkbmhc"
      },
      "source": [
        "Hay varias entradas para los mismos libros, así que los he agrupado por título. En la columna 'description' tenemos descripciones de los libros en nuestro dataset. Resulta un conjunto de datos interesante, puesto que podemos entender qué tipo de libros son los que se convierten en bestsellers del New York Times."
      ]
    },
    {
      "cell_type": "markdown",
      "metadata": {
        "id": "AAyLf-DAbmhd"
      },
      "source": [
        "### Patrones de Regex\n",
        "\n",
        "Vamos a utilizar este dataset para repasar algunas maneras de definir patrones usando regex."
      ]
    },
    {
      "cell_type": "code",
      "metadata": {
        "id": "BMEqEZiCbmhe"
      },
      "source": [
        "# Buscar una palabra en un texto\n",
        "\n",
        "grouped_by_title[grouped_by_title.str.contains('woman', case=False)]"
      ],
      "execution_count": null,
      "outputs": []
    },
    {
      "cell_type": "code",
      "metadata": {
        "id": "rcT2N2-Hbmhf"
      },
      "source": [
        "# Buscar la aparición de números del 0 al 9\n",
        "\n",
        "grouped_by_title[grouped_by_title.str.contains('[0-9]')]"
      ],
      "execution_count": null,
      "outputs": []
    },
    {
      "cell_type": "code",
      "metadata": {
        "id": "qHjGsCBjbmhg"
      },
      "source": [
        "# Uno o más números seguidos por una o más letras\n",
        "\n",
        "grouped_by_title[grouped_by_title.str.contains('[0-9]+[a-z]+', case=False)]"
      ],
      "execution_count": null,
      "outputs": []
    },
    {
      "cell_type": "code",
      "metadata": {
        "id": "yCKDQxdrbmhh"
      },
      "source": [
        "# Uno o más números seguidos por las letras 'th'\n",
        "\n",
        "grouped_by_title[grouped_by_title.str.contains('[0-9]th', case=False)]"
      ],
      "execution_count": null,
      "outputs": []
    },
    {
      "cell_type": "code",
      "metadata": {
        "id": "Y6awQWdTbmhi"
      },
      "source": [
        "# Textos que comiencen con la palabra 'After'\n",
        "\n",
        "grouped_by_title[grouped_by_title.str.contains('^After', case=False)]"
      ],
      "execution_count": null,
      "outputs": []
    },
    {
      "cell_type": "code",
      "metadata": {
        "id": "_FCb8AmJbmhi"
      },
      "source": [
        "# Textos que terminen con la palabra 'London' y un punto (.)\n",
        "\n",
        "grouped_by_title[grouped_by_title.str.contains('London.$', case=False)]"
      ],
      "execution_count": null,
      "outputs": []
    },
    {
      "cell_type": "code",
      "metadata": {
        "id": "WOYxMdk_bmhj"
      },
      "source": [
        "# Textos que contengan la palabra 'cat' o 'dog'\n",
        "\n",
        "grouped_by_title[grouped_by_title.str.contains('\\scat\\s|\\sdog\\s', case=False)]"
      ],
      "execution_count": null,
      "outputs": []
    },
    {
      "cell_type": "code",
      "metadata": {
        "id": "h_Pi4DG_bmhl"
      },
      "source": [
        "# Textos que contengan las palabras 'man' y/o 'woman' en singular y plural\n",
        "\n",
        "grouped_by_title[grouped_by_title.str.contains('wom[ae]n|m[ae]n', case=False)]"
      ],
      "execution_count": null,
      "outputs": []
    },
    {
      "cell_type": "code",
      "metadata": {
        "id": "XKxEizoHbmhm"
      },
      "source": [
        "# Podemos también reemplazar todos los caracteres que no sean ni alfanuméricos ni espacios o tabs por espacios vacíos\n",
        "# Esto nos va a ser muy útil más adelante\n",
        "\n",
        "grouped_by_title.str.replace('[^\\w\\s]', '')"
      ],
      "execution_count": null,
      "outputs": []
    },
    {
      "cell_type": "code",
      "metadata": {
        "id": "RuDOVwexbmhn"
      },
      "source": [
        "# Podemos también reemplazar todos los caracteres numéricos por espacios vacíos\n",
        "\n",
        "grouped_by_title.str.replace('\\d','')"
      ],
      "execution_count": null,
      "outputs": []
    },
    {
      "cell_type": "code",
      "metadata": {
        "id": "qHKLBVYcbmho"
      },
      "source": [
        ""
      ],
      "execution_count": null,
      "outputs": []
    }
  ]
}