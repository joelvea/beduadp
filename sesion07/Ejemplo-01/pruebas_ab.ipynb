{
  "nbformat": 4,
  "nbformat_minor": 0,
  "metadata": {
    "kernelspec": {
      "display_name": "Python 3",
      "language": "python",
      "name": "python3"
    },
    "language_info": {
      "codemirror_mode": {
        "name": "ipython",
        "version": 3
      },
      "file_extension": ".py",
      "mimetype": "text/x-python",
      "name": "python",
      "nbconvert_exporter": "python",
      "pygments_lexer": "ipython3",
      "version": "3.8.5"
    },
    "colab": {
      "name": "pruebas_ab.ipynb",
      "provenance": [],
      "collapsed_sections": []
    }
  },
  "cells": [
    {
      "cell_type": "markdown",
      "metadata": {
        "id": "OEQ8ojG3a9DM"
      },
      "source": [
        "## Ejemplo 1: Pruebas A/B\n",
        "\n",
        "### 1. Objetivos:\n",
        "    - Aprender a evaluar los resultados de una Prueba A/B\n",
        " \n",
        "---\n",
        "    \n",
        "### 2. Desarrollo:"
      ]
    },
    {
      "cell_type": "markdown",
      "metadata": {
        "id": "RU1lO3p8a9DT"
      },
      "source": [
        "El siguiente es un dataset obtenido con los resultados de una Prueba A/B. Se probaron dos flujos de venta distintos y se registró si cada uno de ellos resultó en una conversión (venta) o no. El test A es la hipótesis alternativa (la aplicada al grupo experimental), mientras que el test B es la hipótesis nula (la aplicada al grupo control)."
      ]
    },
    {
      "cell_type": "code",
      "metadata": {
        "id": "MARgrVkQa9DV"
      },
      "source": [
        "import pandas as pd\n",
        "import seaborn as sns\n",
        "import matplotlib.pyplot as plt"
      ],
      "execution_count": null,
      "outputs": []
    },
    {
      "cell_type": "code",
      "metadata": {
        "id": "QabN7a0Ha9DX"
      },
      "source": [
        "df = pd.read_csv('https://raw.githubusercontent.com/manu-msr/beduadp/master/Datasets/ab_test-sales_pipeline.csv')\n",
        "\n",
        "df"
      ],
      "execution_count": null,
      "outputs": []
    },
    {
      "cell_type": "markdown",
      "metadata": {
        "id": "UFqOm77Ca9Dc"
      },
      "source": [
        "Lo primero que podemos hacer es agrupar nuestros resultados por 'test', para realizar un conteo de cuántas conversiones hubo con cada flujo de ventas:"
      ]
    },
    {
      "cell_type": "code",
      "metadata": {
        "id": "8uM0h1s_a9De"
      },
      "source": [
        "total_count = df.groupby('test')[['conversion', 'no conversion']].sum()\n",
        "\n",
        "total_count"
      ],
      "execution_count": null,
      "outputs": []
    },
    {
      "cell_type": "markdown",
      "metadata": {
        "id": "haCKKmuWa9Dg"
      },
      "source": [
        "Saquemos la proporción de conversiones que hubo comparadas con el total de pruebas que se realizaron:"
      ]
    },
    {
      "cell_type": "code",
      "metadata": {
        "id": "heVmBqVma9Di"
      },
      "source": [
        "total_count['success rate'] = total_count['conversion'] / (total_count['conversion'] + total_count['no conversion'])\n",
        "\n",
        "total_count"
      ],
      "execution_count": null,
      "outputs": []
    },
    {
      "cell_type": "markdown",
      "metadata": {
        "id": "hd5Hf9Voa9Dj"
      },
      "source": [
        "Con estos datos parecería que el flujo A (la hipótesis alternativa) es superior al flujo B. Veamos qué tan superior:"
      ]
    },
    {
      "cell_type": "code",
      "metadata": {
        "id": "FRvSciP8a9Dk"
      },
      "source": [
        "diferencia_en_proporcion = 1 - (total_count.loc['B']['success rate'] / total_count.loc['A']['success rate'])\n",
        "diferencia_en_porcentaje = diferencia_en_proporcion * 100"
      ],
      "execution_count": null,
      "outputs": []
    },
    {
      "cell_type": "code",
      "metadata": {
        "id": "WXrGxtema9Dl"
      },
      "source": [
        "print(f'El test A fue {diferencia_en_porcentaje:.2f}% más efectivo que el test B para generar ventas.')"
      ],
      "execution_count": null,
      "outputs": []
    },
    {
      "cell_type": "markdown",
      "metadata": {
        "id": "ubrITGuma9Dm"
      },
      "source": [
        "¿Ahora, podemos entonces concluir que el flujo de ventas A es mejor que el B? No tan rápido. Vamos a aplicar un test de permutación para saber si nuestro hallazgo es estadísticamente significativo.\n",
        "\n",
        "Primero tenemos que mezclar las mediciones del test A y el B en el mismo DataFrame. Esto ya está hecho, entonces solamente vamos a eliminar la columna 'test' para que no haya manera de diferenciarlos:"
      ]
    },
    {
      "cell_type": "code",
      "metadata": {
        "id": "RVtdFQMFa9Dm"
      },
      "source": [
        "all_measurements = df[['conversion', 'no conversion']]"
      ],
      "execution_count": null,
      "outputs": []
    },
    {
      "cell_type": "markdown",
      "metadata": {
        "id": "1Y-RGH6La9Dn"
      },
      "source": [
        "Ahora necesitamos saber cuántos tests con el flujo A hubieron para poder generar muestras del mismo tamaño exactamente:"
      ]
    },
    {
      "cell_type": "code",
      "metadata": {
        "id": "q3ljVI8Sa9Dn"
      },
      "source": [
        "value_counts = df['test'].value_counts()\n",
        "\n",
        "value_counts"
      ],
      "execution_count": null,
      "outputs": []
    },
    {
      "cell_type": "markdown",
      "metadata": {
        "id": "YcENHMlIa9Do"
      },
      "source": [
        "Ahora vamos a aplicar el resto del algoritmo del test de permutación:\n",
        "\n",
        "1. Usando muestreo aleatorio sin reposición, construye un nuevo grupo A del mismo tamaño que el original.\n",
        "2. El resto de los datos conforman nuestro nuevo grupo B.\n",
        "3. Cuantifica la métrica o estadística que calculaste con los grupos originales y guarda el resultado.\n",
        "4. Repite los pasos 1-5 `R` veces para obtener una distribución de la estadística de interés."
      ]
    },
    {
      "cell_type": "code",
      "metadata": {
        "id": "W3_qAJv1a9Do"
      },
      "source": [
        "conv_a = []\n",
        "no_conv_a = []\n",
        "conv_b = []\n",
        "no_conv_b = []\n",
        "\n",
        "for _ in range(1000):\n",
        "    a = df.sample(value_counts.loc['A'], replace=False)\n",
        "    conv_a.append(a['conversion'].sum())\n",
        "    no_conv_a.append(a['no conversion'].sum())\n",
        "    \n",
        "    b = df.loc[~df.index.isin(a.index)]\n",
        "    conv_b.append(b['conversion'].sum())\n",
        "    no_conv_b.append(b['no conversion'].sum())"
      ],
      "execution_count": null,
      "outputs": []
    },
    {
      "cell_type": "code",
      "metadata": {
        "id": "AMIYuksIa9Dp"
      },
      "source": [
        "perm_results = pd.DataFrame({\n",
        "    'conv_a': conv_a,\n",
        "    'no_conv_a': no_conv_a,\n",
        "    'conv_b': conv_b,\n",
        "    'no_conv_b': no_conv_b\n",
        "})\n",
        "\n",
        "perm_results"
      ],
      "execution_count": null,
      "outputs": []
    },
    {
      "cell_type": "code",
      "metadata": {
        "id": "QzchLMu7a9Dp"
      },
      "source": [
        "perm_results['a_conv_rate'] = perm_results['conv_a'] / (perm_results['conv_a'] + perm_results['no_conv_a'])\n",
        "perm_results['b_conv_rate'] = perm_results['conv_b'] / (perm_results['conv_b'] + perm_results['no_conv_b'])"
      ],
      "execution_count": null,
      "outputs": []
    },
    {
      "cell_type": "code",
      "metadata": {
        "id": "jJLd1Yixa9Dp"
      },
      "source": [
        "perm_results"
      ],
      "execution_count": null,
      "outputs": []
    },
    {
      "cell_type": "code",
      "metadata": {
        "id": "xJUOJV6Fa9Dq"
      },
      "source": [
        "perm_results['diff'] = 1 - (perm_results['b_conv_rate'] / perm_results['a_conv_rate'])\n",
        "\n",
        "perm_results"
      ],
      "execution_count": null,
      "outputs": []
    },
    {
      "cell_type": "markdown",
      "metadata": {
        "id": "YIG5wxOxa9Dr"
      },
      "source": [
        "Ya tenemos nuestros resultados, vamos a ver dónde cae en nuestra distribución el resultado que obtuvimos en nuestro experimento:"
      ]
    },
    {
      "cell_type": "code",
      "metadata": {
        "id": "VaGnobOBa9Dr"
      },
      "source": [
        "sns.displot(perm_results['diff'], kde=False)\n",
        "\n",
        "plt.axvline(diferencia_en_proporcion);"
      ],
      "execution_count": null,
      "outputs": []
    },
    {
      "cell_type": "markdown",
      "metadata": {
        "id": "nX68sGiwa9Ds"
      },
      "source": [
        "Solamente de ver la histograma podemos concluir que nuestro resultado es de hecho bastante típico. Un gran número de modelos realizados totalmente al azar tuvieron valores iguales o más extremos que el que obtuvimos en nuestro experimento.\n",
        "\n",
        "Vamos ahora a obtener el Valor P para cuantificar numéricamente nuestro resultado:"
      ]
    },
    {
      "cell_type": "code",
      "metadata": {
        "id": "zcdsRjMqa9Ds"
      },
      "source": [
        "(perm_results['diff'] >= diferencia_en_proporcion).sum() / perm_results.shape[0]"
      ],
      "execution_count": null,
      "outputs": []
    },
    {
      "cell_type": "code",
      "metadata": {
        "id": "XVF3ZCVGa9Ds"
      },
      "source": [
        "perm_results.shape[0]"
      ],
      "execution_count": null,
      "outputs": []
    },
    {
      "cell_type": "markdown",
      "metadata": {
        "id": "wsTNWO9ja9Dt"
      },
      "source": [
        "Este valor quiere decir que el 41.6% de los test que hicimos obtuvieron un valor igual o más extremo que el obtenido en el experimento. Esto está extremadamente alejado de un Alfa de 5%, y por lo tanto definitivamente nuestro resultado **no es estadísticamente significativo**."
      ]
    },
    {
      "cell_type": "code",
      "metadata": {
        "id": "N9Wzymyja9Dt"
      },
      "source": [
        ""
      ],
      "execution_count": null,
      "outputs": []
    }
  ]
}