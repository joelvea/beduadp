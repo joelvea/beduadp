{
  "nbformat": 4,
  "nbformat_minor": 0,
  "metadata": {
    "kernelspec": {
      "display_name": "Python 3",
      "language": "python",
      "name": "python3"
    },
    "language_info": {
      "codemirror_mode": {
        "name": "ipython",
        "version": 3
      },
      "file_extension": ".py",
      "mimetype": "text/x-python",
      "name": "python",
      "nbconvert_exporter": "python",
      "pygments_lexer": "ipython3",
      "version": "3.8.5"
    },
    "colab": {
      "name": "nltk_text.ipynb",
      "provenance": []
    }
  },
  "cells": [
    {
      "cell_type": "markdown",
      "metadata": {
        "id": "bjCetpBodL8T"
      },
      "source": [
        "## Ejemplo 3: Nltk Text\n",
        "\n",
        "### 1. Objetivos:\n",
        "    - Aprender a usar el objeto Text de la biblioteca Nltk\n",
        " \n",
        "---\n",
        "    \n",
        "### 2. Desarrollo:"
      ]
    },
    {
      "cell_type": "markdown",
      "metadata": {
        "id": "-DLIzRKOdL8c"
      },
      "source": [
        "Vamos a utilizar la librería Nltk para explorar algunas técnicas básicas de procesamiento de lenguaje natural. Muchos de estos procedimientos normalmente sirven para preparar nuestros datos para entrenar un modelo o para realizar una visualización."
      ]
    },
    {
      "cell_type": "code",
      "metadata": {
        "id": "F8_SCyncdL8e"
      },
      "source": [
        "import pandas as pd\n",
        "import nltk\n",
        "import seaborn as sns\n",
        "import matplotlib.pyplot as plt\n",
        "import numpy as np"
      ],
      "execution_count": null,
      "outputs": []
    },
    {
      "cell_type": "code",
      "metadata": {
        "id": "6sHHnygBdL8g"
      },
      "source": [
        "df = pd.read_json('https://raw.githubusercontent.com/manu-msr/beduadp/master/Datasets/new_york_times_bestsellers-clean.json')\n",
        "\n",
        "df.head()"
      ],
      "execution_count": null,
      "outputs": []
    },
    {
      "cell_type": "code",
      "metadata": {
        "id": "7sanhMkgdL8j"
      },
      "source": [
        "grouped_by_title = df.groupby('title')['description'].max()\n",
        "\n",
        "grouped_by_title"
      ],
      "execution_count": null,
      "outputs": []
    },
    {
      "cell_type": "markdown",
      "metadata": {
        "id": "lns_Ma8CdL8k"
      },
      "source": [
        "Primero hay que limpiar un poco nuestros textos:"
      ]
    },
    {
      "cell_type": "code",
      "metadata": {
        "id": "8-MFLQ7BdL8l"
      },
      "source": [
        "grouped_by_title = grouped_by_title.str.lower()\n",
        "grouped_by_title = grouped_by_title.str.strip()\n",
        "grouped_by_title = grouped_by_title.str.replace('[^\\w\\s]', '')\n",
        "grouped_by_title = grouped_by_title.str.replace('\\d', '')\n",
        "grouped_by_title = grouped_by_title.str.replace('\\\\n', '')\n",
        "grouped_by_title = grouped_by_title.dropna()\n",
        "\n",
        "grouped_by_title"
      ],
      "execution_count": null,
      "outputs": []
    },
    {
      "cell_type": "markdown",
      "metadata": {
        "id": "dKsn6_mjdL8n"
      },
      "source": [
        "Ahora, vamos a construir un objeto Text con nuestros datos. Primero que nada necesitamos descargar algunas bibliotecas que requiere `nltk` para funcionar. Ve a tu terminal, abre python, importa nltk y usa el siguiente comando:\n",
        "\n",
        "`nltk.download('punkt')`\n",
        "\n",
        "Ahora sí, estamos listos:"
      ]
    },
    {
      "cell_type": "code",
      "metadata": {
        "id": "TEMQA5JjdL8o"
      },
      "source": [
        "nltk.download('punkt')"
      ],
      "execution_count": null,
      "outputs": []
    },
    {
      "cell_type": "code",
      "metadata": {
        "id": "oHt_CER5dL8p"
      },
      "source": [
        "# Separamos cada oración en palabras\n",
        "\n",
        "tokenized = grouped_by_title.apply(nltk.word_tokenize)"
      ],
      "execution_count": null,
      "outputs": []
    },
    {
      "cell_type": "code",
      "metadata": {
        "id": "SFiErF10dL8r"
      },
      "source": [
        "tokenized"
      ],
      "execution_count": null,
      "outputs": []
    },
    {
      "cell_type": "code",
      "metadata": {
        "id": "wmtyDW6rdL8s"
      },
      "source": [
        "# Sumamos todas las listas para obtener una lista con todas las palabras en nuestro conjunto de datos\n",
        "# Creamos un objeto Text\n",
        "\n",
        "all_words = tokenized.sum()\n",
        "text = nltk.Text(all_words)\n",
        "\n",
        "text"
      ],
      "execution_count": null,
      "outputs": []
    },
    {
      "cell_type": "code",
      "metadata": {
        "id": "quP7mI-gdL8t"
      },
      "source": [
        "text.concordance('woman', lines=20)"
      ],
      "execution_count": null,
      "outputs": []
    },
    {
      "cell_type": "code",
      "metadata": {
        "scrolled": true,
        "id": "nHyzkAbddL8u"
      },
      "source": [
        "# similar te regresa las palabras que aparecen en contextos similares al argumento\n",
        "\n",
        "text.similar('woman')"
      ],
      "execution_count": null,
      "outputs": []
    },
    {
      "cell_type": "code",
      "metadata": {
        "id": "IldoydVidL8w"
      },
      "source": [
        "text.similar('women')"
      ],
      "execution_count": null,
      "outputs": []
    },
    {
      "cell_type": "code",
      "metadata": {
        "id": "PTzh4QlpdL8x"
      },
      "source": [
        "text.concordance('man', lines=20)"
      ],
      "execution_count": null,
      "outputs": []
    },
    {
      "cell_type": "code",
      "metadata": {
        "id": "vGhjDNx_dL8y"
      },
      "source": [
        "text.similar('man')"
      ],
      "execution_count": null,
      "outputs": []
    },
    {
      "cell_type": "code",
      "metadata": {
        "id": "UMyX4R1AdL8y"
      },
      "source": [
        "text.similar('men')"
      ],
      "execution_count": null,
      "outputs": []
    },
    {
      "cell_type": "code",
      "metadata": {
        "id": "ANqz3hfHdL8z"
      },
      "source": [
        "# common_contexts regresa los contextos que comparten dos o más palabras\n",
        "\n",
        "text.common_contexts(['woman', 'man'])"
      ],
      "execution_count": null,
      "outputs": []
    },
    {
      "cell_type": "code",
      "metadata": {
        "id": "Ke9MaqLzdL8z"
      },
      "source": [
        "# En este caso una gráfica de dispersión no tiene mucho sentido, pero así es como se produce\n",
        "\n",
        "text.dispersion_plot(['woman', 'man'])"
      ],
      "execution_count": null,
      "outputs": []
    },
    {
      "cell_type": "code",
      "metadata": {
        "id": "j5crDz7jdL80"
      },
      "source": [
        "# Podemos también generar texto que intenta imitar el estilo de nuestro conjunto de datos\n",
        "\n",
        "print(text.generate())"
      ],
      "execution_count": null,
      "outputs": []
    },
    {
      "cell_type": "code",
      "metadata": {
        "id": "mi2s1qzudL81"
      },
      "source": [
        "# Total de palabras\n",
        "\n",
        "len(text)"
      ],
      "execution_count": null,
      "outputs": []
    },
    {
      "cell_type": "code",
      "metadata": {
        "id": "FylmiAUYdL81"
      },
      "source": [
        "# Total de palabras distintas\n",
        "\n",
        "len(set(text))"
      ],
      "execution_count": null,
      "outputs": []
    },
    {
      "cell_type": "code",
      "metadata": {
        "id": "7Zjv31N8dL81"
      },
      "source": [
        "# Cuantificando la riqueza léxica\n",
        "\n",
        "len(set(text)) / len(text)"
      ],
      "execution_count": null,
      "outputs": []
    },
    {
      "cell_type": "code",
      "metadata": {
        "id": "jDY-O8wEdL82"
      },
      "source": [
        "# Las colocaciones son pares de palabras (bigramas) que son inusualmente comunes en nuestro conjunto de datos\n",
        "\n",
        "text.collocations()"
      ],
      "execution_count": null,
      "outputs": []
    },
    {
      "cell_type": "code",
      "metadata": {
        "id": "DF8sviZfdL82"
      },
      "source": [
        ""
      ],
      "execution_count": null,
      "outputs": []
    }
  ]
}